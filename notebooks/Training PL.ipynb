{
 "cells": [
  {
   "cell_type": "code",
   "execution_count": 1,
   "metadata": {},
   "outputs": [],
   "source": [
    "%load_ext autoreload\n",
    "%autoreload 2"
   ]
  },
  {
   "cell_type": "code",
   "execution_count": 2,
   "metadata": {},
   "outputs": [
    {
     "name": "stdout",
     "output_type": "stream",
     "text": [
      "/tf/notebooks/src\n"
     ]
    }
   ],
   "source": [
    "cd ../src/"
   ]
  },
  {
   "cell_type": "markdown",
   "metadata": {},
   "source": [
    "## Intialization"
   ]
  },
  {
   "cell_type": "markdown",
   "metadata": {},
   "source": [
    "### GPU"
   ]
  },
  {
   "cell_type": "code",
   "execution_count": 3,
   "metadata": {},
   "outputs": [
    {
     "data": {
      "text/plain": [
       "[PhysicalDevice(name='/physical_device:GPU:0', device_type='GPU')]"
      ]
     },
     "execution_count": 3,
     "metadata": {},
     "output_type": "execute_result"
    }
   ],
   "source": [
    "import tensorflow as tf\n",
    "tf.config.list_physical_devices('GPU')"
   ]
  },
  {
   "cell_type": "markdown",
   "metadata": {},
   "source": [
    "### Packages"
   ]
  },
  {
   "cell_type": "code",
   "execution_count": 4,
   "metadata": {
    "scrolled": true
   },
   "outputs": [],
   "source": [
    "try:\n",
    "    import pandas\n",
    "except:\n",
    "    !pip install pandas seaborn iterative-stratification nlpaug==0.0.20 tqdm click tensorflow_probability==0.11.1 tf2_resnets tensorflow_addons==0.11.1 image-classifiers==0.2.2"
   ]
  },
  {
   "cell_type": "markdown",
   "metadata": {},
   "source": [
    "### Imports"
   ]
  },
  {
   "cell_type": "code",
   "execution_count": 5,
   "metadata": {},
   "outputs": [],
   "source": [
    "import os\n",
    "import gc\n",
    "import random\n",
    "import logging\n",
    "import warnings\n",
    "\n",
    "import numpy as np\n",
    "import pandas as pd\n",
    "import seaborn as sns\n",
    "import tensorflow as tf\n",
    "import tensorflow_addons as tfa\n",
    "import matplotlib.pyplot as plt\n",
    "\n",
    "from dataloader import BalancedMelSampler, MelSampler, csv_to_dict, csv_to_dict_pl\n",
    "from losses import NpairsLoss\n",
    "from metrics import TFLWLRAP\n",
    "from split_data import get_split\n",
    "from train import get_model, get_callbacks, get_lr_metric\n",
    "from models import NUM_FRAMES, Classifier, DeepMetricLearning"
   ]
  },
  {
   "cell_type": "code",
   "execution_count": 6,
   "metadata": {},
   "outputs": [],
   "source": [
    "from params import *\n",
    "from utils.logger import prepare_log_folder, create_logger"
   ]
  },
  {
   "cell_type": "markdown",
   "metadata": {},
   "source": [
    "### Setup"
   ]
  },
  {
   "cell_type": "code",
   "execution_count": 7,
   "metadata": {},
   "outputs": [],
   "source": [
    "os.environ[\"TF_DETERMINISTIC_OPS\"] = \"1\"\n",
    "os.environ[\"SM_FRAMEWORK\"] = \"tf.keras\"\n",
    "\n",
    "physical_devices = tf.config.list_physical_devices(\"GPU\")\n",
    "for i in range(len(physical_devices)):\n",
    "    tf.config.experimental.set_memory_growth(physical_devices[i], True)\n",
    "tf.config.optimizer.set_experimental_options({\"auto_mixed_precision\": True})\n",
    "\n",
    "random.seed(42)\n",
    "np.random.seed(42)\n",
    "tf.random.set_seed(42)"
   ]
  },
  {
   "cell_type": "markdown",
   "metadata": {},
   "source": [
    "## Main"
   ]
  },
  {
   "cell_type": "code",
   "execution_count": 8,
   "metadata": {},
   "outputs": [],
   "source": [
    "def main(fold_idx, df_pl, saved_path, pretrained_path, pl_threshold=0.5):\n",
    "    os.makedirs(os.path.join(saved_path, f\"fold{fold_idx}\"), exist_ok=True)\n",
    "    \n",
    "    df_pl['pl'] = df_pl[f'pl_fold_{fold_idx}']\n",
    "    df_pl['max_score'] = df_pl['pl'].apply(lambda x: np.max(x))\n",
    "    df_pl = df_pl[df_pl['max_score'] > pl_threshold].reset_index(drop=True)\n",
    "\n",
    "    print(f' -> Using {len(df_pl)} pseudo labels \\n')\n",
    "    \n",
    "    print(' -> Preparing Data \\n')\n",
    "    \n",
    "    train_data = pd.read_csv(\"../data/new_train_tp.csv\")\n",
    "    train_index, val_index = get_split(fold=fold_idx)\n",
    "    fold_train_dict = csv_to_dict(train_data.iloc[train_index])\n",
    "    fold_valid_dict = csv_to_dict(train_data.iloc[val_index])\n",
    "    \n",
    "    pl_data = csv_to_dict_pl(df_pl)\n",
    "\n",
    "    balanced_train_data_loader = BalancedMelSampler(\n",
    "        fold_train_dict,\n",
    "        pl_data,\n",
    "        pl_threshold=pl_threshold,\n",
    "        batch_size=32,\n",
    "        max_length=NUM_FRAMES,\n",
    "        is_train=True,\n",
    "        n_classes=24,\n",
    "        use_cutmix=True,\n",
    "        cache=True,\n",
    "        n_classes_in_batch=8,\n",
    "        shuffle_aug=False,\n",
    "    )\n",
    "\n",
    "    valid_data_loader = MelSampler(\n",
    "        fold_valid_dict,\n",
    "        batch_size=balanced_train_data_loader.batch_size,\n",
    "        n_classes=balanced_train_data_loader.n_classes,\n",
    "        cache=True,\n",
    "        max_length=NUM_FRAMES,\n",
    "        is_train=False,\n",
    "        use_cutmix=False,\n",
    "        shuffle_aug=balanced_train_data_loader.shuffle_aug,\n",
    "    )\n",
    "    \n",
    "#     return 0\n",
    "\n",
    "    print(' -> Preparing Model \\n')\n",
    "    model = get_model(\n",
    "        saved_path=saved_path,\n",
    "        pretrained_with_contrastive=False,\n",
    "        pretrained_path=pretrained_path,\n",
    "    )\n",
    "    model._build()\n",
    "    \n",
    "    scheduler = tfa.optimizers.Triangular2CyclicalLearningRate(\n",
    "        initial_learning_rate=1e-4,\n",
    "        maximal_learning_rate=1e-3,\n",
    "        step_size=15 * 20,\n",
    "    )\n",
    "    \n",
    "    optimizer = tf.keras.mixed_precision.experimental.LossScaleOptimizer(\n",
    "        tfa.optimizers.Lookahead(\n",
    "            tf.keras.optimizers.Adam(learning_rate=scheduler),\n",
    "            10,\n",
    "            0.5,\n",
    "        ),\n",
    "        \"dynamic\",\n",
    "    )\n",
    "    \n",
    "    model.compile(\n",
    "        optimizer=optimizer,\n",
    "        metrics=[TFLWLRAP(num_classes=24, name=\"lwlrap\")],\n",
    "        metric_loss_fn=NpairsLoss(temperature=0.1, name=\"n_pairs\"),\n",
    "        classification_loss_fn=tf.keras.losses.BinaryCrossentropy(from_logits=False),\n",
    "    )   \n",
    "\n",
    "    print(' -> Training Model \\n')\n",
    "\n",
    "    callbacks = get_callbacks(False, fold_idx, saved_path=saved_path)\n",
    "    steps_per_epoch = int((len(fold_train_dict)) / balanced_train_data_loader.batch_size)\n",
    "    \n",
    "    model.fit(\n",
    "        balanced_train_data_loader,\n",
    "        steps_per_epoch=steps_per_epoch,\n",
    "        epochs=60,\n",
    "        validation_data=valid_data_loader,\n",
    "        callbacks=callbacks,\n",
    "        verbose=2\n",
    "    )\n",
    "    \n",
    "    del fold_train_dict, fold_valid_dict, pl_data, balanced_train_data_loader, valid_data_loader, model\n",
    "    gc.collect()"
   ]
  },
  {
   "cell_type": "code",
   "execution_count": 9,
   "metadata": {},
   "outputs": [],
   "source": [
    "DEBUG = False\n",
    "pretrained_folder = \"../logs/2021-01-28/1/\"   # simple\n",
    "pretrained_folder = \"../logs/2021-01-30/42/\"  # mixstyle + iunterpolate + cbam\n",
    "pretrained_folder = \"../logs/2021-01-31/8/\"  # mixstyle + iunterpolate + cbam without relu\n",
    "log_folder = \"../logs/\""
   ]
  },
  {
   "cell_type": "markdown",
   "metadata": {},
   "source": [
    "## Load PL"
   ]
  },
  {
   "cell_type": "code",
   "execution_count": 10,
   "metadata": {},
   "outputs": [],
   "source": [
    "pl_folder = LOG_PATH + \"2021-01-31/12/\""
   ]
  },
  {
   "cell_type": "code",
   "execution_count": 11,
   "metadata": {},
   "outputs": [],
   "source": [
    "df_test = pd.read_csv(DATA_PATH + \"sample_submission.csv\")[[\"recording_id\"]]\n",
    "df_test['is_test'] = True\n",
    "\n",
    "\n",
    "df_train_pl = pd.DataFrame(os.listdir(TRAIN_MELS_PATH), columns=[\"recording_id\"])\n",
    "df_train_pl[\"recording_id\"] = df_train_pl[\"recording_id\"].apply(lambda x:x[:-4])\n",
    "\n",
    "df_tp = pd.read_csv(DATA_PATH + \"new_train_tp.csv\")\n",
    "recordings = list(np.unique(df_tp[\"recording_id\"].apply(lambda x:x.split('_')[0]).values))\n",
    "\n",
    "df_train_pl[\"is_tp\"] = df_train_pl[\"recording_id\"].apply(lambda x: x in recordings)\n",
    "df_train_pl = df_train_pl[df_train_pl[\"is_tp\"] == 0]\n",
    "df_train_pl['is_test'] = False\n",
    "df_train_pl.drop('is_tp', axis=1, inplace=True)"
   ]
  },
  {
   "cell_type": "code",
   "execution_count": 12,
   "metadata": {},
   "outputs": [],
   "source": [
    "pl_test = np.load(pl_folder + \"preds/pl_test.npy\")\n",
    "pl_train = np.load(pl_folder + \"preds_train/pl_train.npy\")"
   ]
  },
  {
   "cell_type": "code",
   "execution_count": 13,
   "metadata": {},
   "outputs": [],
   "source": [
    "for i in range(5):\n",
    "    df_train_pl[f'pl_fold_{i}'] = list(pl_train[i])\n",
    "for i in range(5):\n",
    "    df_test[f'pl_fold_{i}'] = list(pl_test[i])\n",
    "    \n",
    "df_pl = pd.concat([df_test, df_train_pl]).sample(frac=1).reset_index(drop=True)"
   ]
  },
  {
   "cell_type": "code",
   "execution_count": 14,
   "metadata": {},
   "outputs": [],
   "source": [
    "PL_THRESHOLD = 0.9"
   ]
  },
  {
   "cell_type": "markdown",
   "metadata": {},
   "source": [
    "## Train"
   ]
  },
  {
   "cell_type": "code",
   "execution_count": 15,
   "metadata": {
    "scrolled": false
   },
   "outputs": [
    {
     "name": "stdout",
     "output_type": "stream",
     "text": [
      "Logging results to ../logs/2021-02-01/22/\n",
      "\n",
      "-------------   Fold 5 / 5  -------------\n",
      "\n",
      " -> Using 2620 pseudo labels \n",
      "\n",
      " -> Preparing Data \n",
      "\n",
      " -> Preparing Model \n",
      "\n",
      " -> Loading weights from ../logs/2021-01-31/8/pretrained_best_fold4.h5\n",
      "\n",
      " -> Training Model \n",
      "\n",
      "Epoch 1/60\n",
      "WARNING:tensorflow:From /usr/local/lib/python3.6/dist-packages/tensorflow/python/util/deprecation.py:574: calling map_fn_v2 (from tensorflow.python.ops.map_fn) with dtype is deprecated and will be removed in a future version.\n",
      "Instructions for updating:\n",
      "Use fn_output_signature instead\n",
      "30/30 - 10s - loss: 0.1676 - lwlrap: 0.1225 - val_loss: 0.1420 - val_lwlrap: 0.4049\n",
      "Epoch 2/60\n",
      "30/30 - 9s - loss: 0.1519 - lwlrap: 0.1818 - val_loss: 0.1222 - val_lwlrap: 0.5715\n",
      "Epoch 3/60\n",
      "30/30 - 8s - loss: 0.1666 - lwlrap: 0.1890 - val_loss: 0.1135 - val_lwlrap: 0.7373\n",
      "Epoch 4/60\n",
      "30/30 - 8s - loss: 0.1054 - lwlrap: 0.2363 - val_loss: 0.1092 - val_lwlrap: 0.7276\n",
      "Epoch 5/60\n",
      "30/30 - 9s - loss: 0.1531 - lwlrap: 0.2160 - val_loss: 0.1000 - val_lwlrap: 0.7964\n",
      "Epoch 6/60\n",
      "30/30 - 8s - loss: 0.1242 - lwlrap: 0.2186 - val_loss: 0.1214 - val_lwlrap: 0.7661\n",
      "Epoch 7/60\n",
      "30/30 - 8s - loss: 0.1336 - lwlrap: 0.2286 - val_loss: 0.0952 - val_lwlrap: 0.7628\n",
      "Epoch 8/60\n",
      "30/30 - 8s - loss: 0.0526 - lwlrap: 0.2318 - val_loss: 0.1001 - val_lwlrap: 0.7876\n",
      "Epoch 9/60\n",
      "30/30 - 8s - loss: 0.0968 - lwlrap: 0.2092 - val_loss: 0.0734 - val_lwlrap: 0.7765\n",
      "Epoch 10/60\n",
      "30/30 - 8s - loss: 0.1430 - lwlrap: 0.2280 - val_loss: 0.0771 - val_lwlrap: 0.8088\n",
      "Epoch 11/60\n",
      "30/30 - 8s - loss: 0.1093 - lwlrap: 0.2067 - val_loss: 0.0707 - val_lwlrap: 0.8526\n",
      "Epoch 12/60\n",
      "30/30 - 8s - loss: 0.0660 - lwlrap: 0.2343 - val_loss: 0.0928 - val_lwlrap: 0.8260\n",
      "Epoch 13/60\n",
      "30/30 - 9s - loss: 0.1271 - lwlrap: 0.2145 - val_loss: 0.1036 - val_lwlrap: 0.8621\n",
      "Epoch 14/60\n",
      "30/30 - 8s - loss: 0.0928 - lwlrap: 0.2143 - val_loss: 0.0961 - val_lwlrap: 0.8589\n",
      "Epoch 15/60\n",
      "30/30 - 9s - loss: 0.0902 - lwlrap: 0.2244 - val_loss: 0.0858 - val_lwlrap: 0.8647\n",
      "Epoch 16/60\n",
      "30/30 - 9s - loss: 0.0724 - lwlrap: 0.2000 - val_loss: 0.1086 - val_lwlrap: 0.8698\n",
      "Epoch 17/60\n",
      "30/30 - 8s - loss: 0.0892 - lwlrap: 0.2347 - val_loss: 0.0739 - val_lwlrap: 0.8676\n",
      "Epoch 18/60\n",
      "30/30 - 9s - loss: 0.0319 - lwlrap: 0.2240 - val_loss: 0.0813 - val_lwlrap: 0.8743\n",
      "Epoch 19/60\n",
      "30/30 - 8s - loss: 0.0659 - lwlrap: 0.2176 - val_loss: 0.0888 - val_lwlrap: 0.8675\n",
      "Epoch 20/60\n",
      "30/30 - 8s - loss: 0.0288 - lwlrap: 0.2384 - val_loss: 0.1060 - val_lwlrap: 0.8780\n",
      "Epoch 21/60\n",
      "30/30 - 9s - loss: 0.0166 - lwlrap: 0.2674 - val_loss: 0.0854 - val_lwlrap: 0.8896\n",
      "Epoch 22/60\n",
      "30/30 - 8s - loss: 0.0187 - lwlrap: 0.2461 - val_loss: 0.0756 - val_lwlrap: 0.8765\n",
      "Epoch 23/60\n",
      "30/30 - 8s - loss: 0.0142 - lwlrap: 0.2574 - val_loss: 0.0667 - val_lwlrap: 0.8889\n",
      "Epoch 24/60\n",
      "30/30 - 8s - loss: 0.0791 - lwlrap: 0.2340 - val_loss: 0.0634 - val_lwlrap: 0.8747\n",
      "Epoch 25/60\n",
      "30/30 - 8s - loss: 0.0265 - lwlrap: 0.2401 - val_loss: 0.0806 - val_lwlrap: 0.8686\n",
      "Epoch 26/60\n",
      "30/30 - 8s - loss: 0.0741 - lwlrap: 0.2547 - val_loss: 0.0550 - val_lwlrap: 0.8688\n",
      "Epoch 27/60\n",
      "30/30 - 8s - loss: 0.0136 - lwlrap: 0.2210 - val_loss: 0.0822 - val_lwlrap: 0.8692\n",
      "Epoch 28/60\n",
      "30/30 - 8s - loss: 0.0273 - lwlrap: 0.2426 - val_loss: 0.0758 - val_lwlrap: 0.8718\n",
      "Epoch 29/60\n",
      "30/30 - 8s - loss: 0.0781 - lwlrap: 0.2126 - val_loss: 0.0675 - val_lwlrap: 0.8690\n",
      "Epoch 30/60\n",
      "30/30 - 8s - loss: 0.0219 - lwlrap: 0.2338 - val_loss: 0.0583 - val_lwlrap: 0.8741\n",
      "Epoch 31/60\n",
      "30/30 - 8s - loss: 0.1030 - lwlrap: 0.2619 - val_loss: 0.0637 - val_lwlrap: 0.8745\n",
      "Epoch 32/60\n",
      "30/30 - 8s - loss: 0.0754 - lwlrap: 0.2173 - val_loss: 0.0668 - val_lwlrap: 0.8766\n",
      "Epoch 33/60\n",
      "30/30 - 8s - loss: 0.0210 - lwlrap: 0.2457 - val_loss: 0.0798 - val_lwlrap: 0.8731\n",
      "Epoch 34/60\n",
      "30/30 - 8s - loss: 0.0828 - lwlrap: 0.2563 - val_loss: 0.0638 - val_lwlrap: 0.8925\n",
      "Epoch 35/60\n",
      "30/30 - 8s - loss: 0.0069 - lwlrap: 0.2346 - val_loss: 0.0699 - val_lwlrap: 0.8823\n",
      "Epoch 36/60\n",
      "30/30 - 8s - loss: 0.0065 - lwlrap: 0.2457 - val_loss: 0.0689 - val_lwlrap: 0.9010\n",
      "Epoch 37/60\n",
      "30/30 - 8s - loss: 0.0120 - lwlrap: 0.2274 - val_loss: 0.0610 - val_lwlrap: 0.8817\n",
      "Epoch 38/60\n",
      "30/30 - 8s - loss: 0.0780 - lwlrap: 0.2296 - val_loss: 0.0779 - val_lwlrap: 0.8892\n",
      "Epoch 39/60\n",
      "30/30 - 8s - loss: 0.0775 - lwlrap: 0.2537 - val_loss: 0.0797 - val_lwlrap: 0.8883\n",
      "Epoch 40/60\n",
      "30/30 - 8s - loss: 0.0742 - lwlrap: 0.2307 - val_loss: 0.0662 - val_lwlrap: 0.8855\n",
      "Epoch 41/60\n",
      "30/30 - 8s - loss: 0.0056 - lwlrap: 0.2267 - val_loss: 0.0622 - val_lwlrap: 0.8722\n",
      "Epoch 42/60\n",
      "30/30 - 8s - loss: 0.0080 - lwlrap: 0.2264 - val_loss: 0.0596 - val_lwlrap: 0.8799\n",
      "Epoch 43/60\n",
      "30/30 - 8s - loss: 0.0625 - lwlrap: 0.2172 - val_loss: 0.0625 - val_lwlrap: 0.8907\n",
      "Epoch 44/60\n",
      "30/30 - 8s - loss: 0.0058 - lwlrap: 0.2608 - val_loss: 0.0702 - val_lwlrap: 0.8780\n",
      "Epoch 45/60\n",
      "30/30 - 8s - loss: 0.0126 - lwlrap: 0.2094 - val_loss: 0.0627 - val_lwlrap: 0.8615\n",
      "Epoch 46/60\n",
      "30/30 - 8s - loss: 0.0173 - lwlrap: 0.2634 - val_loss: 0.0640 - val_lwlrap: 0.8853\n",
      "Epoch 47/60\n",
      "30/30 - 8s - loss: 0.0679 - lwlrap: 0.2564 - val_loss: 0.0650 - val_lwlrap: 0.8841\n",
      "Epoch 48/60\n",
      "30/30 - 8s - loss: 0.0607 - lwlrap: 0.2354 - val_loss: 0.0705 - val_lwlrap: 0.8882\n",
      "Epoch 49/60\n",
      "30/30 - 8s - loss: 0.0065 - lwlrap: 0.2228 - val_loss: 0.0646 - val_lwlrap: 0.8807\n",
      "Epoch 50/60\n",
      "30/30 - 8s - loss: 0.0101 - lwlrap: 0.2203 - val_loss: 0.0662 - val_lwlrap: 0.8818\n",
      "Epoch 51/60\n",
      "30/30 - 8s - loss: 0.0802 - lwlrap: 0.2215 - val_loss: 0.0784 - val_lwlrap: 0.8734\n",
      "Epoch 52/60\n",
      "30/30 - 8s - loss: 0.0075 - lwlrap: 0.2388 - val_loss: 0.0677 - val_lwlrap: 0.8836\n",
      "Epoch 53/60\n",
      "30/30 - 8s - loss: 0.0595 - lwlrap: 0.2469 - val_loss: 0.0620 - val_lwlrap: 0.8855\n",
      "Epoch 54/60\n",
      "30/30 - 8s - loss: 0.0725 - lwlrap: 0.2409 - val_loss: 0.0789 - val_lwlrap: 0.8667\n",
      "Epoch 55/60\n",
      "30/30 - 8s - loss: 0.0067 - lwlrap: 0.2256 - val_loss: 0.0603 - val_lwlrap: 0.8933\n",
      "Epoch 56/60\n",
      "30/30 - 8s - loss: 0.0070 - lwlrap: 0.2527 - val_loss: 0.0741 - val_lwlrap: 0.8824\n"
     ]
    }
   ],
   "source": [
    "if not DEBUG:\n",
    "    log_folder = prepare_log_folder(LOG_PATH)\n",
    "    print(f'Logging results to {log_folder}')\n",
    "    create_logger(directory=log_folder, name=\"logs.txt\")\n",
    "    \n",
    "for fold_idx in range(4, 5):\n",
    "    tf.keras.backend.clear_session()\n",
    "    print(f\"\\n-------------   Fold {fold_idx + 1} / {5}  -------------\\n\")\n",
    "    \n",
    "    main(\n",
    "        fold_idx,\n",
    "        df_pl.copy(),\n",
    "        log_folder, \n",
    "        pretrained_folder + f\"pretrained_best_fold{fold_idx}.h5\", \n",
    "        pl_threshold=PL_THRESHOLD\n",
    "    )\n",
    "    \n",
    "    if DEBUG:\n",
    "        break"
   ]
  }
 ],
 "metadata": {
  "kernelspec": {
   "display_name": "Python 3",
   "language": "python",
   "name": "python3"
  },
  "language_info": {
   "codemirror_mode": {
    "name": "ipython",
    "version": 3
   },
   "file_extension": ".py",
   "mimetype": "text/x-python",
   "name": "python",
   "nbconvert_exporter": "python",
   "pygments_lexer": "ipython3",
   "version": "3.6.9"
  }
 },
 "nbformat": 4,
 "nbformat_minor": 4
}
