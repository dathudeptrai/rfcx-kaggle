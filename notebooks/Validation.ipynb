{
 "cells": [
  {
   "cell_type": "code",
   "execution_count": 1,
   "metadata": {},
   "outputs": [],
   "source": [
    "%load_ext autoreload\n",
    "%autoreload 2"
   ]
  },
  {
   "cell_type": "code",
   "execution_count": 2,
   "metadata": {},
   "outputs": [
    {
     "name": "stdout",
     "output_type": "stream",
     "text": [
      "/tf/notebooks/src\n"
     ]
    }
   ],
   "source": [
    "cd ../src/"
   ]
  },
  {
   "cell_type": "markdown",
   "metadata": {},
   "source": [
    "## Intialization"
   ]
  },
  {
   "cell_type": "code",
   "execution_count": 3,
   "metadata": {},
   "outputs": [
    {
     "data": {
      "text/plain": [
       "[PhysicalDevice(name='/physical_device:GPU:0', device_type='GPU')]"
      ]
     },
     "execution_count": 3,
     "metadata": {},
     "output_type": "execute_result"
    }
   ],
   "source": [
    "import tensorflow as tf\n",
    "tf.config.list_physical_devices('GPU')"
   ]
  },
  {
   "cell_type": "markdown",
   "metadata": {},
   "source": [
    "### Packages"
   ]
  },
  {
   "cell_type": "code",
   "execution_count": 4,
   "metadata": {
    "scrolled": false
   },
   "outputs": [],
   "source": [
    "try:\n",
    "    import pandas\n",
    "except:\n",
    "    !pip install pandas seaborn iterative-stratification nlpaug==0.0.20 tqdm click tensorflow_probability==0.11.1 tf2_resnets tensorflow_addons==0.11.1 image-classifiers==0.2.2"
   ]
  },
  {
   "cell_type": "markdown",
   "metadata": {},
   "source": [
    "### Imports"
   ]
  },
  {
   "cell_type": "code",
   "execution_count": 5,
   "metadata": {},
   "outputs": [],
   "source": [
    "import os\n",
    "import glob\n",
    "import random\n",
    "import logging\n",
    "import numpy as np\n",
    "import pandas as pd\n",
    "import tensorflow as tf\n",
    "import matplotlib.pyplot as plt\n",
    "\n",
    "from sklearn.metrics import *\n",
    "\n",
    "from train import get_model\n",
    "from split_data import get_split\n",
    "from metrics import LwlrapAccumulator\n",
    "from dataloaders.val import MelSampler\n",
    "from dataloaders.utils import csv_to_dict"
   ]
  },
  {
   "cell_type": "code",
   "execution_count": 6,
   "metadata": {},
   "outputs": [],
   "source": [
    "from params import *\n",
    "from utils.metric import lwlrap"
   ]
  },
  {
   "cell_type": "markdown",
   "metadata": {},
   "source": [
    "## Main"
   ]
  },
  {
   "cell_type": "code",
   "execution_count": 7,
   "metadata": {},
   "outputs": [],
   "source": [
    "def run_multi_scale_eval(model_name, checkpoints_path, fold, scales):\n",
    "    \"\"\"\n",
    "    This function will compute each species's lrap at different scale.\n",
    "    The idea is, for each species in test-set, we will use its predicted\n",
    "    value at the scale that maximize its lrap in eval set. in the case\n",
    "    that the maximum lrap value is achieved at many different scales, let take a\n",
    "    maximum scale because the smaller scale, the more false positive samples.\n",
    "    \"\"\"\n",
    "    train_data = pd.read_csv(\"../data/new_train_tp.csv\")\n",
    "    _, val_index = get_split(fold=fold)\n",
    "    valid_dataset_csv = train_data.iloc[val_index]\n",
    "\n",
    "    valid_data_loader = MelSampler(\n",
    "        csv_to_dict(valid_dataset_csv),\n",
    "        cache=True,\n",
    "        batch_size=64,\n",
    "        n_classes=24,\n",
    "        is_train=False,\n",
    "        use_cutmix=False,\n",
    "        shuffle_aug=False,\n",
    "        max_length=384,\n",
    "    )\n",
    "    all_checkpoints = sorted(\n",
    "        glob.glob(os.path.join(checkpoints_path, f\"fold{fold}\", \"model-*.h5\"))\n",
    "    )\n",
    "\n",
    "    model = get_model(\n",
    "        model_name=model_name,\n",
    "        saved_path=checkpoints_path,\n",
    "        pretrained_with_contrastive=False,\n",
    "        pretrained_path=all_checkpoints[-1],\n",
    "    )\n",
    "    \n",
    "    lwlrap_at_scale = np.zeros((len(scales), NUM_CLASSES))\n",
    "    preds = []\n",
    "\n",
    "    for s, max_length in enumerate(scales):\n",
    "        valid_data_loader.max_length = max_length\n",
    "        clip_preds = model.predict(valid_data_loader, verbose=0)  # [B, 24]\n",
    "        clip_preds = tf.nn.sigmoid(clip_preds).numpy()\n",
    "        \n",
    "        preds.append(clip_preds)\n",
    "\n",
    "        # compute gts\n",
    "        gts = []\n",
    "        for i in range(len(valid_dataset_csv)):\n",
    "            gts.append(valid_dataset_csv.iloc[i][\"species_id\"])\n",
    "        gts = tf.keras.utils.to_categorical(gts, 24)\n",
    "\n",
    "        class_lwlrap, _ , score = lwlrap(gts, clip_preds)\n",
    "        \n",
    "        lwlrap_at_scale[s] = class_lwlrap\n",
    "        print(f\"Scale {scales[s]}:\\t{score:.3f}\")                     \n",
    "\n",
    "    np.save(\n",
    "        os.path.join(checkpoints_path, f\"lwlrap_at_scale_{fold}.npy\"),\n",
    "        lwlrap_at_scale,\n",
    "    )\n",
    "    \n",
    "    return lwlrap_at_scale, np.array(preds), gts"
   ]
  },
  {
   "cell_type": "code",
   "execution_count": 8,
   "metadata": {},
   "outputs": [],
   "source": [
    "CP_FOLDER = LOG_PATH + \"2021-02-04/9/\"\n",
    "CP_FOLDER = LOG_PATH + \"2021-02-04/12/\"\n",
    "# CP_FOLDER = \"../data/densenet121_pretrained/\"  # 0.897"
   ]
  },
  {
   "cell_type": "code",
   "execution_count": 9,
   "metadata": {},
   "outputs": [],
   "source": [
    "CP_FOLDERS = [\n",
    "    LOG_PATH + \"2021-02-04/9/\"\n",
    "]\n",
    "\n",
    "MODELS = [\n",
    "    'densenet121',\n",
    "]"
   ]
  },
  {
   "cell_type": "code",
   "execution_count": 10,
   "metadata": {},
   "outputs": [],
   "source": [
    "MODELS = [\n",
    "   'densenet121',\n",
    "#     'resnet18',\n",
    "#     'resnet34',\n",
    "#     'resnext50',\n",
    "#     'efficientnetb2',\n",
    "#     \"xception\",\n",
    "#     'resnest50',\n",
    "#     'efficientnetb3',\n",
    "]"
   ]
  },
  {
   "cell_type": "code",
   "execution_count": 11,
   "metadata": {},
   "outputs": [],
   "source": [
    "CP_FOLDERS = [\n",
    "#     \"../logs/2021-02-14/8/\",\n",
    "#     \"../logs/2021-02-14/9/\",\n",
    "#     \"../logs/2021-02-14/10/\",\n",
    "#     \"../logs/2021-02-15/0/\",\n",
    "#     \"../logs/2021-02-15/1/\",\n",
    "#     \"../logs/2021-02-15/2/\",\n",
    "    \"../logs/2021-02-15/3/\",\n",
    "    \n",
    "]"
   ]
  },
  {
   "cell_type": "code",
   "execution_count": 13,
   "metadata": {
    "scrolled": true
   },
   "outputs": [
    {
     "name": "stdout",
     "output_type": "stream",
     "text": [
      "\n",
      "########################\n",
      " -> Log folder : ../logs/2021-02-16/1/\n",
      "########################\n",
      "\n",
      "\n",
      "-------------   Fold 1 / 5  -------------\n",
      "\n",
      " -> Loading weights from ../logs/2021-02-16/1/fold0/model-0.820-0.130.h5\n",
      "\n",
      "Scale 32:\t0.549\n",
      "Scale 64:\t0.716\n",
      "Scale 128:\t0.814\n",
      "Scale 192:\t0.852\n",
      "Scale 256:\t0.856\n",
      "Scale 320:\t0.850\n",
      "Scale 384:\t0.840\n",
      "Scale 448:\t0.820\n",
      "Scale 512:\t0.811\n",
      "\n",
      "Multi-scale : 0.832\n",
      "\n",
      "-------------   Fold 2 / 5  -------------\n",
      "\n",
      " -> Loading weights from ../logs/2021-02-16/1/fold1/model-0.860-0.116.h5\n",
      "\n",
      "Scale 32:\t0.605\n",
      "Scale 64:\t0.795\n",
      "Scale 128:\t0.869\n",
      "Scale 192:\t0.886\n",
      "Scale 256:\t0.892\n",
      "Scale 320:\t0.882\n",
      "Scale 384:\t0.862\n",
      "Scale 448:\t0.855\n",
      "Scale 512:\t0.859\n",
      "\n",
      "Multi-scale : 0.894\n",
      "\n",
      "-------------   Fold 3 / 5  -------------\n",
      "\n",
      " -> Loading weights from ../logs/2021-02-16/1/fold2/model-0.796-0.125.h5\n",
      "\n",
      "Scale 32:\t0.549\n",
      "Scale 64:\t0.723\n",
      "Scale 128:\t0.814\n",
      "Scale 192:\t0.830\n",
      "Scale 256:\t0.837\n",
      "Scale 320:\t0.827\n",
      "Scale 384:\t0.805\n",
      "Scale 448:\t0.798\n",
      "Scale 512:\t0.796\n",
      "\n",
      "Multi-scale : 0.839\n",
      "\n",
      "-------------   Fold 4 / 5  -------------\n",
      "\n",
      " -> Loading weights from ../logs/2021-02-16/1/fold3/model-0.851-0.116.h5\n",
      "\n",
      "Scale 32:\t0.540\n",
      "Scale 64:\t0.769\n",
      "Scale 128:\t0.865\n",
      "Scale 192:\t0.876\n",
      "Scale 256:\t0.869\n",
      "Scale 320:\t0.867\n",
      "Scale 384:\t0.859\n",
      "Scale 448:\t0.851\n",
      "Scale 512:\t0.853\n",
      "\n",
      "Multi-scale : 0.871\n",
      "\n",
      "-------------   Fold 5 / 5  -------------\n",
      "\n",
      " -> Loading weights from ../logs/2021-02-16/1/fold4/model-0.860-0.128.h5\n",
      "\n",
      "Scale 32:\t0.542\n",
      "Scale 64:\t0.713\n",
      "Scale 128:\t0.841\n",
      "Scale 192:\t0.869\n",
      "Scale 256:\t0.868\n",
      "Scale 320:\t0.868\n",
      "Scale 384:\t0.856\n",
      "Scale 448:\t0.858\n",
      "Scale 512:\t0.858\n",
      "\n",
      "Multi-scale : 0.877\n",
      "\n",
      "########################\n",
      "Local CV score 0.863\n",
      "########################\n",
      "\n"
     ]
    }
   ],
   "source": [
    "for model_name, CP_FOLDER in zip(MODELS, CP_FOLDERS):\n",
    "    \n",
    "    print(f'\\n########################\\n -> Log folder : {CP_FOLDER}\\n########################\\n')\n",
    "    lwlraps = []\n",
    "    preds = []\n",
    "    best_preds = []\n",
    "    ys = []\n",
    "\n",
    "    for fold_idx in range(5):\n",
    "        tf.keras.backend.clear_session()\n",
    "        print(f\"\\n-------------   Fold {fold_idx + 1} / {5}  -------------\\n\")\n",
    "\n",
    "        lwlrap_at_scale, pred, y = run_multi_scale_eval(model_name, CP_FOLDER, fold_idx, SCALES)\n",
    "\n",
    "        best_pred = []\n",
    "        for c in range(NUM_CLASSES):  # extended argmax\n",
    "            best_score = lwlrap_at_scale[:, c].max()\n",
    "            best_indexes = [i for i, j in enumerate(lwlrap_at_scale[:, c]) if j == best_score]\n",
    "            class_preds = [pred[idx, :, c] for idx in best_indexes]\n",
    "    #         best_pred.append(np.mean(class_preds, 0))\n",
    "            best_pred.append(class_preds[-1])\n",
    "        best_pred = np.array(best_pred).T\n",
    "\n",
    "    #     best_pred = np.array([pred[lwlrap_at_scale[:, i].argmax(), :, i] for i in range(NUM_CLASSES)]).T  # argmax\n",
    "\n",
    "        score = lwlrap(y, best_pred)[-1]\n",
    "\n",
    "        print(f'\\nMulti-scale : {score:.3f}')\n",
    "\n",
    "        lwlraps.append(lwlrap_at_scale)\n",
    "        best_preds.append(best_pred)\n",
    "        preds.append(pred)\n",
    "        ys.append(y)\n",
    "        \n",
    "    score = lwlrap(np.concatenate(ys), np.concatenate(best_preds))[-1]\n",
    "\n",
    "    print(f'\\n########################\\nLocal CV score {score:.3f}\\n########################\\n')"
   ]
  },
  {
   "cell_type": "code",
   "execution_count": 10,
   "metadata": {},
   "outputs": [
    {
     "name": "stdout",
     "output_type": "stream",
     "text": [
      "Local CV score 0.904\n"
     ]
    }
   ],
   "source": [
    "score = lwlrap(np.concatenate(ys), np.concatenate(best_preds))[-1]\n",
    "\n",
    "print(f'Local CV score {score:.3f}')"
   ]
  },
  {
   "cell_type": "markdown",
   "metadata": {},
   "source": [
    "## Confidences"
   ]
  },
  {
   "cell_type": "code",
   "execution_count": 11,
   "metadata": {},
   "outputs": [],
   "source": [
    "df = pd.read_csv('../data/new_train_tp.csv')\n",
    "\n",
    "pred_oof = np.zeros((len(df), NUM_CLASSES))\n",
    "\n",
    "for i in range(5):\n",
    "    _, val_index = get_split(fold=i)\n",
    "    \n",
    "    pred_val = preds[i]\n",
    "    lwlrap_at_scale = lwlraps[i]\n",
    "    \n",
    "    best_pred = []\n",
    "    for c in range(NUM_CLASSES):  # extended argmax\n",
    "#         best_score = lwlrap_at_scale[:, c].max()\n",
    "#         best_indexes = [i for i, j in enumerate(lwlrap_at_scale[:, c]) if j == best_score]\n",
    "\n",
    "        best_indexes = [-1] # only 512\n",
    "        class_preds = [pred_val[idx, :, c] for idx in best_indexes]\n",
    "        best_pred.append(class_preds[-1])\n",
    "    best_pred = np.array(best_pred).T\n",
    "    pred_oof[val_index] = best_pred"
   ]
  },
  {
   "cell_type": "code",
   "execution_count": 12,
   "metadata": {
    "scrolled": true
   },
   "outputs": [],
   "source": [
    "confidences = []\n",
    "has_others = []\n",
    "for i in range(len(df)):\n",
    "    pred = pred_oof[i].copy()\n",
    "    \n",
    "#     print(pred, df['species_id'][i], pred[df['species_id'][i]], pred.max())\n",
    "    confidences.append(pred[df['species_id'][i]])\n",
    "    \n",
    "    pred[df['species_id'][i]] = 0\n",
    "    has_others.append(int(pred.max() > 0.5))\n",
    "    \n",
    "#     break"
   ]
  },
  {
   "cell_type": "code",
   "execution_count": 13,
   "metadata": {},
   "outputs": [],
   "source": [
    "df['confidence'] = confidences\n",
    "df['has_other'] = has_others"
   ]
  },
  {
   "cell_type": "code",
   "execution_count": 14,
   "metadata": {},
   "outputs": [
    {
     "data": {
      "image/png": "[encoded data removed]",
      "text/plain": [
       "<Figure size 720x216 with 2 Axes>"
      ]
     },
     "metadata": {
      "needs_background": "light"
     },
     "output_type": "display_data"
    }
   ],
   "source": [
    "plt.figure(figsize=(10, 3))\n",
    "plt.subplot(1, 2, 1)\n",
    "sns.distplot(confidences)\n",
    "plt.subplot(1, 2, 2)\n",
    "sns.countplot(has_others)\n",
    "plt.show()"
   ]
  },
  {
   "cell_type": "code",
   "execution_count": 15,
   "metadata": {},
   "outputs": [],
   "source": [
    "df.to_csv(OUT_DIR + 'df_tp_conf.csv', index=False)"
   ]
  }
 ],
 "metadata": {
  "kernelspec": {
   "display_name": "Python 3",
   "language": "python",
   "name": "python3"
  },
  "language_info": {
   "codemirror_mode": {
    "name": "ipython",
    "version": 3
   },
   "file_extension": ".py",
   "mimetype": "text/x-python",
   "name": "python",
   "nbconvert_exporter": "python",
   "pygments_lexer": "ipython3",
   "version": "3.6.9"
  }
 },
 "nbformat": 4,
 "nbformat_minor": 4
}
