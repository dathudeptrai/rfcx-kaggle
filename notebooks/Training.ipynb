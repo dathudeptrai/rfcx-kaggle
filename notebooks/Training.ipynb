{
 "cells": [
  {
   "cell_type": "code",
   "execution_count": 1,
   "metadata": {},
   "outputs": [],
   "source": [
    "%load_ext autoreload\n",
    "%autoreload 2"
   ]
  },
  {
   "cell_type": "code",
   "execution_count": 2,
   "metadata": {},
   "outputs": [
    {
     "name": "stdout",
     "output_type": "stream",
     "text": [
      "/tf/notebooks/src\n"
     ]
    }
   ],
   "source": [
    "cd ../src/"
   ]
  },
  {
   "cell_type": "markdown",
   "metadata": {},
   "source": [
    "## Intialization"
   ]
  },
  {
   "cell_type": "markdown",
   "metadata": {},
   "source": [
    "### GPU"
   ]
  },
  {
   "cell_type": "code",
   "execution_count": 3,
   "metadata": {},
   "outputs": [
    {
     "data": {
      "text/plain": [
       "[PhysicalDevice(name='/physical_device:GPU:0', device_type='GPU')]"
      ]
     },
     "execution_count": 3,
     "metadata": {},
     "output_type": "execute_result"
    }
   ],
   "source": [
    "import tensorflow as tf\n",
    "tf.config.list_physical_devices('GPU')"
   ]
  },
  {
   "cell_type": "markdown",
   "metadata": {},
   "source": [
    "### Packages"
   ]
  },
  {
   "cell_type": "code",
   "execution_count": 4,
   "metadata": {
    "scrolled": true
   },
   "outputs": [],
   "source": [
    "try:\n",
    "    import pandas\n",
    "except:\n",
    "    !pip install pandas iterative-stratification nlpaug==0.0.20 tqdm click tensorflow_probability==0.11.1 tf2_resnets tensorflow_addons==0.11.1 image-classifiers==0.2.2"
   ]
  },
  {
   "cell_type": "markdown",
   "metadata": {},
   "source": [
    "### Imports"
   ]
  },
  {
   "cell_type": "code",
   "execution_count": 5,
   "metadata": {},
   "outputs": [],
   "source": [
    "import os\n",
    "import random\n",
    "import logging\n",
    "import warnings\n",
    "\n",
    "import numpy as np\n",
    "import pandas as pd\n",
    "import tensorflow as tf\n",
    "import tensorflow_addons as tfa\n",
    "import matplotlib.pyplot as plt\n",
    "from sklearn.model_selection import GroupKFold\n",
    "\n",
    "from dataloaders.train import BalancedMelSampler\n",
    "from dataloaders.val import MelSampler\n",
    "from dataloaders.utils import csv_to_dict\n",
    "\n",
    "from losses import NpairsLoss, MovingAverageBCE, TPFPBCE\n",
    "from metrics import TFLWLRAP\n",
    "from split_data import get_split\n",
    "from train import get_model, get_callbacks\n",
    "from models import NUM_FRAMES, Classifier, DeepMetricLearning"
   ]
  },
  {
   "cell_type": "code",
   "execution_count": 6,
   "metadata": {},
   "outputs": [],
   "source": [
    "from params import *\n",
    "from utils.logger import prepare_log_folder, create_logger"
   ]
  },
  {
   "cell_type": "markdown",
   "metadata": {},
   "source": [
    "### Setup"
   ]
  },
  {
   "cell_type": "code",
   "execution_count": 7,
   "metadata": {},
   "outputs": [],
   "source": [
    "os.environ[\"TF_DETERMINISTIC_OPS\"] = \"1\"\n",
    "os.environ[\"SM_FRAMEWORK\"] = \"tf.keras\"\n",
    "\n",
    "physical_devices = tf.config.list_physical_devices(\"GPU\")\n",
    "for i in range(len(physical_devices)):\n",
    "    tf.config.experimental.set_memory_growth(physical_devices[i], True)\n",
    "tf.config.optimizer.set_experimental_options({\"auto_mixed_precision\": True})\n",
    "\n",
    "random.seed(42)\n",
    "np.random.seed(42)\n",
    "tf.random.set_seed(42)"
   ]
  },
  {
   "cell_type": "markdown",
   "metadata": {},
   "source": [
    "## Main"
   ]
  },
  {
   "cell_type": "code",
   "execution_count": 8,
   "metadata": {},
   "outputs": [],
   "source": [
    "EPOCHS = 100"
   ]
  },
  {
   "cell_type": "code",
   "execution_count": 9,
   "metadata": {},
   "outputs": [],
   "source": [
    "def get_lr(epoch, lr, min_lr=1e-5, max_lr=1e-3, epochs=EPOCHS, warmup_prop=0.1):   \n",
    "    if epoch <= epochs * warmup_prop:\n",
    "        return min_lr + max_lr - (max_lr * (epochs * warmup_prop - epoch) / (epochs * warmup_prop))\n",
    "    else:\n",
    "        return min_lr + max_lr - (max_lr * (epoch - epochs * warmup_prop) / (epochs - epochs * warmup_prop))"
   ]
  },
  {
   "cell_type": "code",
   "execution_count": 10,
   "metadata": {},
   "outputs": [],
   "source": [
    "def main(fold_idx, saved_path, pretrained_path):\n",
    "    os.makedirs(os.path.join(saved_path, f\"fold{fold_idx}\"), exist_ok=True)\n",
    "\n",
    "    print(' -> Preparing Data \\n')\n",
    "    \n",
    "    train_data = pd.read_csv(\"../data/new_train_tp.csv\")\n",
    "    fp_data = pd.read_csv(\"../data/new_train_fp.csv\")\n",
    "\n",
    "    train_index, val_index, train_index_fp = get_split(fold=fold_idx)\n",
    "    \n",
    "#     skf = GroupKFold(n_splits=5)\n",
    "#     train_index, val_index = list(skf.split(\n",
    "#         X=train_data, \n",
    "#         groups=train_data['recording_id'].apply(lambda x:x.split('_')[0])\n",
    "#     ))[fold_idx]\n",
    "    \n",
    "    fold_train_dict = csv_to_dict(train_data.iloc[train_index])\n",
    "    fold_valid_dict = csv_to_dict(train_data.iloc[val_index])\n",
    "    fold_fp_dict = csv_to_dict(fp_data.iloc[train_index_fp])\n",
    "\n",
    "    balanced_train_data_loader = BalancedMelSampler(\n",
    "        fold_train_dict,\n",
    "        fold_fp_dict,\n",
    "        batch_size=64,\n",
    "        max_length=NUM_FRAMES,\n",
    "        n_classes=24,\n",
    "        use_cutmix=True,\n",
    "        n_classes_in_batch=8,\n",
    "    )\n",
    "\n",
    "    valid_data_loader = MelSampler(\n",
    "        fold_valid_dict,\n",
    "        batch_size=64,\n",
    "        n_classes=24,\n",
    "        max_length=NUM_FRAMES,\n",
    "    )\n",
    "\n",
    "    print(' -> Preparing Model \\n')\n",
    "    model = get_model(\n",
    "        saved_path=saved_path,\n",
    "        pretrained_with_contrastive=False,\n",
    "        pretrained_path=pretrained_path,\n",
    "    )\n",
    "    model._build()\n",
    "    \n",
    "    scheduler = tfa.optimizers.Triangular2CyclicalLearningRate(\n",
    "        initial_learning_rate=1e-4,\n",
    "        maximal_learning_rate=1e-3,\n",
    "        step_size=50,  # 15 steps per epoch\n",
    "    )\n",
    "    \n",
    "    optimizer = tf.keras.mixed_precision.experimental.LossScaleOptimizer(\n",
    "        tfa.optimizers.Lookahead(\n",
    "            tf.keras.optimizers.Adam(\n",
    "                learning_rate=scheduler\n",
    "            ),\n",
    "            10,\n",
    "            0.5,\n",
    "        ),\n",
    "        \"dynamic\",\n",
    "    )\n",
    "    \n",
    "    step_per_epoch = int((len(fold_train_dict)) / balanced_train_data_loader.batch_size)\n",
    "#     ma_bce = MovingAverageBCE(\n",
    "#         train_data.iloc[train_index],\n",
    "#         start_apply_step=20 * step_per_epoch,\n",
    "#         momentum=0.9,\n",
    "#         name=\"moving_average_loss\",\n",
    "#     )\n",
    "    ma_bce = TPFPBCE()\n",
    "    \n",
    "    model.compile(\n",
    "        optimizer=optimizer,\n",
    "        metrics=[TFLWLRAP(num_classes=24, name=\"lwlrap\")],\n",
    "        metric_loss_fn=NpairsLoss(temperature=0.1, name=\"n_pairs\"),\n",
    "        classification_loss_fn=tf.keras.losses.BinaryCrossentropy(from_logits=True),\n",
    "        moving_average_bce=ma_bce,\n",
    "    )   \n",
    "\n",
    "    print(' -> Training Model \\n')\n",
    "\n",
    "    callbacks = get_callbacks(False, fold_idx, saved_path=saved_path)\n",
    "    \n",
    "    steps_per_epoch = int((len(fold_train_dict)) / balanced_train_data_loader.batch_size)\n",
    "\n",
    "    model.fit(\n",
    "        balanced_train_data_loader,\n",
    "        steps_per_epoch=steps_per_epoch,\n",
    "        epochs=EPOCHS,\n",
    "        validation_data=valid_data_loader,\n",
    "        callbacks=callbacks,\n",
    "        verbose=2\n",
    "    )\n",
    "    \n",
    "    model.save_weights(os.path.join(saved_path, f\"fold{fold_idx}\", \"model_last.h5\"))"
   ]
  },
  {
   "cell_type": "code",
   "execution_count": 11,
   "metadata": {},
   "outputs": [],
   "source": [
    "DEBUG = True\n",
    "pretrained_folder = \"../logs/2021-02-04/3/\"   # simple\n",
    "# pretrained_folder = \"../logs/2021-01-30/42/\"  # mixstyle + iunterpolate + cbam\n",
    "# pretrained_folder = \"../logs/2021-01-31/8/\"  # mixstyle + iunterpolate + cbam without relu\n",
    "log_folder = \"../logs/\""
   ]
  },
  {
   "cell_type": "code",
   "execution_count": 12,
   "metadata": {
    "scrolled": false
   },
   "outputs": [
    {
     "name": "stdout",
     "output_type": "stream",
     "text": [
      "\n",
      "-------------   Fold 1 / 5  -------------\n",
      "\n",
      " -> Preparing Data \n",
      "\n",
      " -> Preparing Model \n",
      "\n",
      " -> Loading weights from ../logs/2021-02-04/3/pretrained_best_fold0.h5\n",
      "\n",
      " -> Training Model \n",
      "\n",
      "Epoch 1/100\n",
      "WARNING:tensorflow:From /usr/local/lib/python3.6/dist-packages/tensorflow/python/util/deprecation.py:574: calling map_fn_v2 (from tensorflow.python.ops.map_fn) with dtype is deprecated and will be removed in a future version.\n",
      "Instructions for updating:\n",
      "Use fn_output_signature instead\n",
      "15/15 - 8s - loss: 0.2129 - lwlrap: 0.2135 - val_loss: 0.1824 - val_lwlrap: 0.3459\n",
      "Epoch 2/100\n",
      "15/15 - 6s - loss: 0.1386 - lwlrap: 0.3063 - val_loss: 0.1351 - val_lwlrap: 0.5718\n",
      "Epoch 3/100\n",
      "15/15 - 6s - loss: 0.1606 - lwlrap: 0.4965 - val_loss: 0.1509 - val_lwlrap: 0.6092\n",
      "Epoch 4/100\n",
      "15/15 - 6s - loss: 0.1278 - lwlrap: 0.5901 - val_loss: 0.1460 - val_lwlrap: 0.7075\n",
      "Epoch 5/100\n",
      "15/15 - 6s - loss: 0.0996 - lwlrap: 0.7074 - val_loss: 0.1561 - val_lwlrap: 0.6700\n",
      "Epoch 6/100\n",
      "15/15 - 6s - loss: 0.0876 - lwlrap: 0.7152 - val_loss: 0.1032 - val_lwlrap: 0.7945\n",
      "Epoch 7/100\n",
      "15/15 - 6s - loss: 0.0657 - lwlrap: 0.7772 - val_loss: 0.0994 - val_lwlrap: 0.7990\n",
      "Epoch 8/100\n",
      "15/15 - 6s - loss: 0.0773 - lwlrap: 0.7819 - val_loss: 0.0982 - val_lwlrap: 0.8122\n",
      "Epoch 9/100\n",
      "15/15 - 6s - loss: 0.0772 - lwlrap: 0.7809 - val_loss: 0.1065 - val_lwlrap: 0.8182\n",
      "Epoch 10/100\n",
      "15/15 - 6s - loss: 0.0826 - lwlrap: 0.7675 - val_loss: 0.1001 - val_lwlrap: 0.8052\n",
      "Epoch 11/100\n",
      "15/15 - 6s - loss: 0.0782 - lwlrap: 0.8037 - val_loss: 0.1059 - val_lwlrap: 0.7788\n",
      "Epoch 12/100\n",
      "15/15 - 6s - loss: 0.0764 - lwlrap: 0.8022 - val_loss: 0.0879 - val_lwlrap: 0.8283\n",
      "Epoch 13/100\n",
      "15/15 - 6s - loss: 0.0625 - lwlrap: 0.8337 - val_loss: 0.0948 - val_lwlrap: 0.8263\n",
      "Epoch 14/100\n",
      "15/15 - 6s - loss: 0.0380 - lwlrap: 0.8632 - val_loss: 0.0904 - val_lwlrap: 0.8237\n",
      "Epoch 15/100\n",
      "15/15 - 6s - loss: 0.0627 - lwlrap: 0.8748 - val_loss: 0.0855 - val_lwlrap: 0.8231\n",
      "Epoch 16/100\n",
      "15/15 - 6s - loss: 0.0397 - lwlrap: 0.8775 - val_loss: 0.0876 - val_lwlrap: 0.8121\n",
      "Epoch 17/100\n",
      "15/15 - 6s - loss: 0.0670 - lwlrap: 0.8659 - val_loss: 0.0834 - val_lwlrap: 0.8138\n",
      "Epoch 18/100\n",
      "15/15 - 6s - loss: 0.0472 - lwlrap: 0.8613 - val_loss: 0.0911 - val_lwlrap: 0.8342\n",
      "Epoch 19/100\n",
      "15/15 - 6s - loss: 0.0452 - lwlrap: 0.8714 - val_loss: 0.0845 - val_lwlrap: 0.8216\n",
      "Epoch 20/100\n",
      "15/15 - 6s - loss: 0.0383 - lwlrap: 0.8789 - val_loss: 0.0917 - val_lwlrap: 0.8329\n",
      "Epoch 21/100\n",
      "15/15 - 6s - loss: 0.0555 - lwlrap: 0.8774 - val_loss: 0.0980 - val_lwlrap: 0.8207\n",
      "Epoch 22/100\n",
      "15/15 - 6s - loss: 0.0618 - lwlrap: 0.8922 - val_loss: 0.0953 - val_lwlrap: 0.8288\n",
      "Epoch 23/100\n",
      "15/15 - 6s - loss: 0.0316 - lwlrap: 0.8981 - val_loss: 0.0940 - val_lwlrap: 0.8158\n",
      "Epoch 24/100\n",
      "15/15 - 6s - loss: 0.0583 - lwlrap: 0.8892 - val_loss: 0.0865 - val_lwlrap: 0.8351\n",
      "Epoch 25/100\n",
      "15/15 - 6s - loss: 0.0506 - lwlrap: 0.9105 - val_loss: 0.0823 - val_lwlrap: 0.8062\n",
      "Epoch 26/100\n",
      "15/15 - 6s - loss: 0.0351 - lwlrap: 0.9125 - val_loss: 0.0815 - val_lwlrap: 0.8405\n",
      "Epoch 27/100\n",
      "15/15 - 6s - loss: 0.0403 - lwlrap: 0.9025 - val_loss: 0.0899 - val_lwlrap: 0.8189\n",
      "Epoch 28/100\n",
      "15/15 - 6s - loss: 0.0332 - lwlrap: 0.9236 - val_loss: 0.0906 - val_lwlrap: 0.8146\n",
      "Epoch 29/100\n",
      "15/15 - 6s - loss: 0.0343 - lwlrap: 0.9062 - val_loss: 0.0929 - val_lwlrap: 0.8413\n",
      "Epoch 30/100\n",
      "15/15 - 6s - loss: 0.0312 - lwlrap: 0.9134 - val_loss: 0.0950 - val_lwlrap: 0.8235\n",
      "Epoch 31/100\n",
      "15/15 - 6s - loss: 0.0409 - lwlrap: 0.9059 - val_loss: 0.1062 - val_lwlrap: 0.8256\n",
      "Epoch 32/100\n",
      "15/15 - 6s - loss: 0.0368 - lwlrap: 0.9334 - val_loss: 0.1018 - val_lwlrap: 0.8221\n",
      "Epoch 33/100\n",
      "15/15 - 6s - loss: 0.0236 - lwlrap: 0.9417 - val_loss: 0.0988 - val_lwlrap: 0.8312\n",
      "Epoch 34/100\n",
      "15/15 - 6s - loss: 0.0430 - lwlrap: 0.9264 - val_loss: 0.0951 - val_lwlrap: 0.8224\n",
      "Epoch 35/100\n",
      "15/15 - 6s - loss: 0.0358 - lwlrap: 0.9227 - val_loss: 0.0985 - val_lwlrap: 0.8251\n",
      "Epoch 36/100\n",
      "15/15 - 6s - loss: 0.0364 - lwlrap: 0.9213 - val_loss: 0.0983 - val_lwlrap: 0.8342\n",
      "Epoch 37/100\n",
      "15/15 - 6s - loss: 0.0283 - lwlrap: 0.9334 - val_loss: 0.0914 - val_lwlrap: 0.8255\n",
      "Epoch 38/100\n",
      "15/15 - 6s - loss: 0.0291 - lwlrap: 0.9376 - val_loss: 0.0908 - val_lwlrap: 0.8229\n",
      "Epoch 39/100\n",
      "15/15 - 6s - loss: 0.0317 - lwlrap: 0.9355 - val_loss: 0.0955 - val_lwlrap: 0.8172\n",
      "Epoch 40/100\n",
      "15/15 - 6s - loss: 0.0439 - lwlrap: 0.9332 - val_loss: 0.0927 - val_lwlrap: 0.8165\n",
      "Epoch 41/100\n",
      "15/15 - 6s - loss: 0.0295 - lwlrap: 0.9295 - val_loss: 0.0917 - val_lwlrap: 0.8313\n",
      "Epoch 42/100\n",
      "15/15 - 6s - loss: 0.0307 - lwlrap: 0.9368 - val_loss: 0.0891 - val_lwlrap: 0.8214\n",
      "Epoch 43/100\n",
      "15/15 - 6s - loss: 0.0294 - lwlrap: 0.9280 - val_loss: 0.0937 - val_lwlrap: 0.8237\n",
      "Epoch 44/100\n",
      "15/15 - 6s - loss: 0.0172 - lwlrap: 0.9485 - val_loss: 0.0912 - val_lwlrap: 0.8249\n",
      "Epoch 45/100\n",
      "15/15 - 6s - loss: 0.0253 - lwlrap: 0.9469 - val_loss: 0.0824 - val_lwlrap: 0.8273\n",
      "Epoch 46/100\n",
      "15/15 - 6s - loss: 0.0289 - lwlrap: 0.9400 - val_loss: 0.0861 - val_lwlrap: 0.8294\n",
      "Epoch 47/100\n",
      "15/15 - 6s - loss: 0.0214 - lwlrap: 0.9318 - val_loss: 0.0808 - val_lwlrap: 0.8172\n",
      "Epoch 48/100\n",
      "15/15 - 6s - loss: 0.0262 - lwlrap: 0.9442 - val_loss: 0.0885 - val_lwlrap: 0.8284\n",
      "Epoch 49/100\n",
      "15/15 - 6s - loss: 0.0117 - lwlrap: 0.9480 - val_loss: 0.0888 - val_lwlrap: 0.8216\n",
      "Epoch 50/100\n",
      "15/15 - 6s - loss: 0.0110 - lwlrap: 0.9413 - val_loss: 0.0897 - val_lwlrap: 0.8334\n",
      "Epoch 51/100\n",
      "15/15 - 6s - loss: 0.0379 - lwlrap: 0.9494 - val_loss: 0.0903 - val_lwlrap: 0.8367\n",
      "Epoch 52/100\n",
      "15/15 - 6s - loss: 0.0438 - lwlrap: 0.9531 - val_loss: 0.0937 - val_lwlrap: 0.8287\n",
      "Epoch 53/100\n",
      "15/15 - 6s - loss: 0.0266 - lwlrap: 0.9490 - val_loss: 0.0937 - val_lwlrap: 0.8271\n",
      "Epoch 54/100\n",
      "15/15 - 6s - loss: 0.0195 - lwlrap: 0.9561 - val_loss: 0.0969 - val_lwlrap: 0.8288\n",
      "Epoch 55/100\n",
      "15/15 - 6s - loss: 0.0282 - lwlrap: 0.9612 - val_loss: 0.0865 - val_lwlrap: 0.8308\n",
      "Epoch 56/100\n",
      "15/15 - 6s - loss: 0.0361 - lwlrap: 0.9497 - val_loss: 0.0869 - val_lwlrap: 0.8223\n",
      "Epoch 57/100\n",
      "15/15 - 6s - loss: 0.0187 - lwlrap: 0.9615 - val_loss: 0.0873 - val_lwlrap: 0.8195\n",
      "Epoch 58/100\n",
      "15/15 - 6s - loss: 0.0121 - lwlrap: 0.9673 - val_loss: 0.0928 - val_lwlrap: 0.8299\n",
      "Epoch 59/100\n",
      "15/15 - 6s - loss: 0.0263 - lwlrap: 0.9526 - val_loss: 0.0909 - val_lwlrap: 0.8264\n"
     ]
    }
   ],
   "source": [
    "if not DEBUG:\n",
    "    log_folder = prepare_log_folder(LOG_PATH)\n",
    "    print(f'Logging results to {log_folder}')\n",
    "    create_logger(directory=log_folder, name=\"logs.txt\")\n",
    "    \n",
    "for fold_idx in range(5):\n",
    "    tf.keras.backend.clear_session()\n",
    "    print(f\"\\n-------------   Fold {fold_idx + 1} / {5}  -------------\\n\")\n",
    "    \n",
    "    main(\n",
    "        fold_idx, \n",
    "        log_folder, \n",
    "        pretrained_folder + f\"pretrained_best_fold{fold_idx}.h5\", \n",
    "    )\n",
    "    \n",
    "    if DEBUG:\n",
    "        break"
   ]
  }
 ],
 "metadata": {
  "kernelspec": {
   "display_name": "Python 3",
   "language": "python",
   "name": "python3"
  },
  "language_info": {
   "codemirror_mode": {
    "name": "ipython",
    "version": 3
   },
   "file_extension": ".py",
   "mimetype": "text/x-python",
   "name": "python",
   "nbconvert_exporter": "python",
   "pygments_lexer": "ipython3",
   "version": "3.6.9"
  }
 },
 "nbformat": 4,
 "nbformat_minor": 4
}
