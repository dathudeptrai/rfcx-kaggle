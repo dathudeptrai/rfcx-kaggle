{
 "cells": [
  {
   "cell_type": "code",
   "execution_count": 1,
   "metadata": {},
   "outputs": [],
   "source": [
    "%load_ext autoreload\n",
    "%autoreload 2"
   ]
  },
  {
   "cell_type": "code",
   "execution_count": 2,
   "metadata": {},
   "outputs": [
    {
     "name": "stdout",
     "output_type": "stream",
     "text": [
      "/home/theo/kaggle/rfcx-kaggle/src\n"
     ]
    }
   ],
   "source": [
    "cd ../src/"
   ]
  },
  {
   "cell_type": "markdown",
   "metadata": {},
   "source": [
    "## Intialization"
   ]
  },
  {
   "cell_type": "code",
   "execution_count": 3,
   "metadata": {},
   "outputs": [],
   "source": [
    "import os\n",
    "import click\n",
    "import random\n",
    "import logging\n",
    "import numpy as np\n",
    "import pandas as pd\n",
    "import tensorflow as tf\n",
    "import tensorflow_addons as tfa\n",
    "\n",
    "\n",
    "from dataloader import BalancedMelSampler, MelSampler, convert_csv_to_dict_for_dataloader\n",
    "from losses import NpairsLoss\n",
    "from metrics import TFLWLRAP\n",
    "from models import NUM_FRAMES, Classifier, DeepMetricLearning\n",
    "from split_data import get_split"
   ]
  },
  {
   "cell_type": "code",
   "execution_count": 4,
   "metadata": {},
   "outputs": [],
   "source": [
    "from params import *\n",
    "from utils.logger import prepare_log_folder"
   ]
  },
  {
   "cell_type": "code",
   "execution_count": 5,
   "metadata": {},
   "outputs": [],
   "source": [
    "os.environ[\"TF_DETERMINISTIC_OPS\"] = \"1\"\n",
    "os.environ[\"SM_FRAMEWORK\"] = \"tf.keras\"\n",
    "\n",
    "physical_devices = tf.config.list_physical_devices(\"GPU\")\n",
    "for i in range(len(physical_devices)):\n",
    "    tf.config.experimental.set_memory_growth(physical_devices[i], True)\n",
    "tf.config.optimizer.set_experimental_options({\"auto_mixed_precision\": True})\n",
    "\n",
    "random.seed(42)\n",
    "np.random.seed(42)\n",
    "tf.random.set_seed(42)"
   ]
  },
  {
   "cell_type": "code",
   "execution_count": 6,
   "metadata": {},
   "outputs": [],
   "source": [
    "def get_model(\n",
    "    saved_path=\"\", pretrained_with_contrastive=False, pretrained_path=\"\",\n",
    "):\n",
    "    if pretrained_with_contrastive:\n",
    "        model = DeepMetricLearning()\n",
    "    else:\n",
    "        model = Classifier()\n",
    "        model._build()\n",
    "        model.load_weights(pretrained_path, by_name=True)\n",
    "\n",
    "    os.makedirs(saved_path, exist_ok=True)\n",
    "    return model\n",
    "\n",
    "\n",
    "def get_callbacks(fold_id=0, saved_path=\"\"):\n",
    "    model_checkpoint = tf.keras.callbacks.ModelCheckpoint(\n",
    "        os.path.join(\n",
    "            saved_path, f\"fold{fold_id}\", \"model-{val_lwlrap:.3f}-{val_loss:.3f}.h5\"\n",
    "        ),\n",
    "        monitor=\"val_lwlrap\",\n",
    "        save_weights_only=True,\n",
    "        save_best_only=True,\n",
    "        mode=\"max\",\n",
    "        save_freq=\"epoch\",\n",
    "    )\n",
    "    early_stopping = tf.keras.callbacks.EarlyStopping(\n",
    "        patience=30, monitor=\"val_lwlrap\", mode=\"max\"\n",
    "    )\n",
    "    return [model_checkpoint, early_stopping]"
   ]
  },
  {
   "cell_type": "code",
   "execution_count": 7,
   "metadata": {},
   "outputs": [],
   "source": [
    "def main(fold_idx, saved_path, pretrained_path, pretrained_with_contrastive):\n",
    "    train_data = pd.read_csv(\"../data/new_train_tp.csv\")\n",
    "    pretrained_with_contrastive = bool(pretrained_with_contrastive)\n",
    "\n",
    "    os.makedirs(os.path.join(saved_path, f\"fold{fold_idx}\"), exist_ok=True)\n",
    "    model = get_model(\n",
    "        saved_path=saved_path,\n",
    "        pretrained_with_contrastive=pretrained_with_contrastive,\n",
    "        pretrained_path=pretrained_path,\n",
    "    )\n",
    "\n",
    "    # get train_idx and valid_idx\n",
    "    train_index, val_index = get_split(fold=fold_idx)\n",
    "\n",
    "    # convert to dictionary\n",
    "    fold_train_dict = convert_csv_to_dict_for_dataloader(train_data.iloc[train_index])\n",
    "    fold_valid_dict = convert_csv_to_dict_for_dataloader(train_data.iloc[val_index])\n",
    "\n",
    "    # create dataloader\n",
    "    balanced_train_data_loader = BalancedMelSampler(\n",
    "        fold_train_dict,\n",
    "        batch_size=64,\n",
    "        max_length=NUM_FRAMES,\n",
    "        is_train=True,\n",
    "        n_classes=24,\n",
    "        use_cutmix=True,\n",
    "        cache=True,\n",
    "        n_classes_in_batch=8,\n",
    "        shuffle_aug=False,\n",
    "    )\n",
    "\n",
    "    valid_data_loader = MelSampler(\n",
    "        fold_valid_dict,\n",
    "        batch_size=balanced_train_data_loader.batch_size,\n",
    "        n_classes=balanced_train_data_loader.n_classes,\n",
    "        cache=True,\n",
    "        max_length=NUM_FRAMES,\n",
    "        is_train=False,\n",
    "        use_cutmix=False,\n",
    "        shuffle_aug=balanced_train_data_loader.shuffle_aug,\n",
    "    )\n",
    "\n",
    "    # build model, pass fake input.\n",
    "    model._build()\n",
    "\n",
    "    # compile model\n",
    "    model.compile(\n",
    "        optimizer=tf.keras.mixed_precision.experimental.LossScaleOptimizer(\n",
    "            tfa.optimizers.Lookahead(\n",
    "                tf.keras.optimizers.Adam(\n",
    "                    learning_rate=tfa.optimizers.Triangular2CyclicalLearningRate(\n",
    "                        initial_learning_rate=0.0001,\n",
    "                        maximal_learning_rate=0.001,\n",
    "                        step_size=50,\n",
    "                    )\n",
    "                ),\n",
    "                10,\n",
    "                0.5,\n",
    "            ),\n",
    "            \"dynamic\",\n",
    "        ),\n",
    "        metrics=[TFLWLRAP(num_classes=24, name=\"lwlrap\")],\n",
    "        metric_loss_fn=NpairsLoss(temperature=0.1, name=\"n_pairs\"),\n",
    "        classification_loss_fn=tf.keras.losses.BinaryCrossentropy(from_logits=True),\n",
    "    )\n",
    "\n",
    "    # summary model\n",
    "    model.summary()\n",
    "\n",
    "    # training model.\n",
    "    model.fit(\n",
    "        balanced_train_data_loader,\n",
    "        steps_per_epoch=int(\n",
    "            (len(fold_train_dict)) / balanced_train_data_loader.batch_size\n",
    "        ),\n",
    "        epochs=100,\n",
    "        validation_data=valid_data_loader,\n",
    "        callbacks=get_callbacks(fold_idx, saved_path=saved_path)\n",
    "        if pretrained_with_contrastive is False\n",
    "        else [\n",
    "            tf.keras.callbacks.ModelCheckpoint(\n",
    "                os.path.join(saved_path, f\"pretrained_best_fold{fold_idx}.h5\"),\n",
    "                monitor=\"val_loss\",\n",
    "                save_weights_only=True,\n",
    "                save_best_only=True,\n",
    "                mode=\"min\",\n",
    "                save_freq=\"epoch\",\n",
    "            ),\n",
    "            tf.keras.callbacks.EarlyStopping(\n",
    "                patience=30, monitor=\"val_loss\", mode=\"min\",\n",
    "            ),\n",
    "        ],\n",
    "    )"
   ]
  },
  {
   "cell_type": "code",
   "execution_count": 8,
   "metadata": {},
   "outputs": [
    {
     "name": "stdout",
     "output_type": "stream",
     "text": [
      "Logging results to ../logs/2021-01-27/9/\n"
     ]
    }
   ],
   "source": [
    "log_folder = prepare_log_folder(LOG_PATH)\n",
    "print(f'Logging results to {log_folder}')"
   ]
  },
  {
   "cell_type": "code",
   "execution_count": 6,
   "metadata": {},
   "outputs": [
    {
     "data": {
      "text/plain": [
       "False"
      ]
     },
     "execution_count": 6,
     "metadata": {},
     "output_type": "execute_result"
    }
   ],
   "source": [
    "import tensorflow as tf\n",
    "tf.test.is_gpu_available()"
   ]
  },
  {
   "cell_type": "code",
   "execution_count": null,
   "metadata": {},
   "outputs": [],
   "source": []
  },
  {
   "cell_type": "code",
   "execution_count": null,
   "metadata": {
    "scrolled": false
   },
   "outputs": [
    {
     "name": "stderr",
     "output_type": "stream",
     "text": [
      "100%|██████████| 974/974 [00:17<00:00, 56.84it/s] \n",
      "100%|██████████| 242/242 [00:02<00:00, 101.42it/s]\n",
      "100%|██████████| 974/974 [00:00<00:00, 3510.01it/s]\n",
      "100%|██████████| 242/242 [00:00<00:00, 499518.49it/s]\n"
     ]
    },
    {
     "name": "stdout",
     "output_type": "stream",
     "text": [
      "Model: \"deep_metric_learning\"\n",
      "_________________________________________________________________\n",
      "Layer (type)                 Output Shape              Param #   \n",
      "=================================================================\n",
      "densenet121 (Functional)     (None, None, None, 1024)  7037504   \n",
      "_________________________________________________________________\n",
      "fc (Dense)                   (None, 128)               131200    \n",
      "_________________________________________________________________\n",
      "pooling (GlobalAveragePoolin (None, 1024)              0         \n",
      "_________________________________________________________________\n",
      "lwlrap (TFLWLRAP)            multiple                  48        \n",
      "=================================================================\n",
      "Total params: 7,168,752\n",
      "Trainable params: 7,085,056\n",
      "Non-trainable params: 83,696\n",
      "_________________________________________________________________\n",
      "Epoch 1/100\n",
      "WARNING:tensorflow:From /home/theo/venv/lib/python3.8/site-packages/tensorflow/python/ops/math_ops.py:3238: sparse_mat_mul (from tensorflow.python.ops.gen_math_ops) is deprecated and will be removed in a future version.\n",
      "Instructions for updating:\n",
      "Use `tf.linalg.matmul` instead\n"
     ]
    }
   ],
   "source": [
    "for fold_idx in range(5):\n",
    "    main(\n",
    "        fold_idx, \n",
    "        log_folder, \n",
    "        log_folder, \n",
    "        pretrained_with_contrastive=True\n",
    "    )\n",
    "    \n",
    "    break"
   ]
  }
 ],
 "metadata": {
  "kernelspec": {
   "display_name": "venv",
   "language": "python",
   "name": "venv"
  }
 },
 "nbformat": 4,
 "nbformat_minor": 4
}
