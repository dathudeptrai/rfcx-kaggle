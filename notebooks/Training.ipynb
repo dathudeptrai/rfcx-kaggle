{
 "cells": [
  {
   "cell_type": "code",
   "execution_count": 1,
   "metadata": {},
   "outputs": [],
   "source": [
    "%load_ext autoreload\n",
    "%autoreload 2"
   ]
  },
  {
   "cell_type": "code",
   "execution_count": 2,
   "metadata": {},
   "outputs": [
    {
     "name": "stdout",
     "output_type": "stream",
     "text": [
      "/tf/notebooks/src\n"
     ]
    }
   ],
   "source": [
    "cd ../src/"
   ]
  },
  {
   "cell_type": "markdown",
   "metadata": {},
   "source": [
    "## Intialization"
   ]
  },
  {
   "cell_type": "markdown",
   "metadata": {},
   "source": [
    "### GPU"
   ]
  },
  {
   "cell_type": "code",
   "execution_count": 3,
   "metadata": {},
   "outputs": [
    {
     "data": {
      "text/plain": [
       "[PhysicalDevice(name='/physical_device:GPU:0', device_type='GPU')]"
      ]
     },
     "execution_count": 3,
     "metadata": {},
     "output_type": "execute_result"
    }
   ],
   "source": [
    "import tensorflow as tf\n",
    "tf.config.list_physical_devices('GPU')"
   ]
  },
  {
   "cell_type": "markdown",
   "metadata": {},
   "source": [
    "### Packages"
   ]
  },
  {
   "cell_type": "code",
   "execution_count": 4,
   "metadata": {
    "scrolled": true
   },
   "outputs": [
    {
     "name": "stdout",
     "output_type": "stream",
     "text": [
      "Requirement already satisfied: pandas in /usr/local/lib/python3.6/dist-packages (1.1.5)\n",
      "Requirement already satisfied: iterative-stratification in /usr/local/lib/python3.6/dist-packages (0.1.6)\n",
      "Requirement already satisfied: tensorflow_addons in /usr/local/lib/python3.6/dist-packages (0.12.0)\n",
      "Requirement already satisfied: nlpaug==0.0.20 in /usr/local/lib/python3.6/dist-packages (0.0.20)\n",
      "Requirement already satisfied: tqdm in /usr/local/lib/python3.6/dist-packages (4.56.0)\n",
      "Requirement already satisfied: click in /usr/local/lib/python3.6/dist-packages (7.1.2)\n",
      "Requirement already satisfied: pytz>=2017.2 in /usr/local/lib/python3.6/dist-packages (from pandas) (2020.5)\n",
      "Requirement already satisfied: numpy>=1.15.4 in /usr/local/lib/python3.6/dist-packages (from pandas) (1.18.5)\n",
      "Requirement already satisfied: python-dateutil>=2.7.3 in /usr/local/lib/python3.6/dist-packages (from pandas) (2.8.1)\n",
      "Requirement already satisfied: scikit-learn in /usr/local/lib/python3.6/dist-packages (from iterative-stratification) (0.24.1)\n",
      "Requirement already satisfied: scipy in /usr/local/lib/python3.6/dist-packages (from iterative-stratification) (1.5.4)\n",
      "Requirement already satisfied: typeguard>=2.7 in /usr/local/lib/python3.6/dist-packages (from tensorflow_addons) (2.10.0)\n",
      "Requirement already satisfied: six>=1.5 in /usr/local/lib/python3.6/dist-packages (from python-dateutil>=2.7.3->pandas) (1.15.0)\n",
      "Requirement already satisfied: threadpoolctl>=2.0.0 in /usr/local/lib/python3.6/dist-packages (from scikit-learn->iterative-stratification) (2.1.0)\n",
      "Requirement already satisfied: joblib>=0.11 in /usr/local/lib/python3.6/dist-packages (from scikit-learn->iterative-stratification) (1.0.0)\n",
      "\u001b[33mWARNING: You are using pip version 20.2.4; however, version 21.0 is available.\n",
      "You should consider upgrading via the '/usr/bin/python3 -m pip install --upgrade pip' command.\u001b[0m\n"
     ]
    }
   ],
   "source": [
    "!pip install pandas iterative-stratification tensorflow_addons nlpaug==0.0.20 tqdm click"
   ]
  },
  {
   "cell_type": "markdown",
   "metadata": {},
   "source": [
    "### Imports"
   ]
  },
  {
   "cell_type": "code",
   "execution_count": 5,
   "metadata": {},
   "outputs": [],
   "source": [
    "import os\n",
    "import random\n",
    "import logging\n",
    "import warnings\n",
    "\n",
    "import numpy as np\n",
    "import pandas as pd\n",
    "import tensorflow as tf\n",
    "import tensorflow_addons as tfa\n",
    "\n",
    "\n",
    "from dataloader import BalancedMelSampler, MelSampler, convert_csv_to_dict_for_dataloader\n",
    "from losses import NpairsLoss\n",
    "from metrics import TFLWLRAP\n",
    "from models import NUM_FRAMES, Classifier, DeepMetricLearning\n",
    "from split_data import get_split\n",
    "from train import get_model, get_callbacks, get_lr_metric"
   ]
  },
  {
   "cell_type": "code",
   "execution_count": 6,
   "metadata": {},
   "outputs": [],
   "source": [
    "from params import *\n",
    "from utils.logger import prepare_log_folder, create_logger"
   ]
  },
  {
   "cell_type": "markdown",
   "metadata": {},
   "source": [
    "### Setup"
   ]
  },
  {
   "cell_type": "code",
   "execution_count": 7,
   "metadata": {},
   "outputs": [],
   "source": [
    "warnings.filterwarnings(\"ignore\")\n",
    "os.environ[\"TF_DETERMINISTIC_OPS\"] = \"1\"\n",
    "os.environ[\"SM_FRAMEWORK\"] = \"tf.keras\"\n",
    "\n",
    "physical_devices = tf.config.list_physical_devices(\"GPU\")\n",
    "for i in range(len(physical_devices)):\n",
    "    tf.config.experimental.set_memory_growth(physical_devices[i], True)\n",
    "tf.config.optimizer.set_experimental_options({\"auto_mixed_precision\": True})\n",
    "\n",
    "random.seed(42)\n",
    "np.random.seed(42)\n",
    "tf.random.set_seed(42)"
   ]
  },
  {
   "cell_type": "markdown",
   "metadata": {},
   "source": [
    "## Main"
   ]
  },
  {
   "cell_type": "code",
   "execution_count": 8,
   "metadata": {},
   "outputs": [],
   "source": [
    "def main(fold_idx, saved_path, pretrained_path, pretrained_with_contrastive):\n",
    "    os.makedirs(os.path.join(saved_path, f\"fold{fold_idx}\"), exist_ok=True)\n",
    "    pretrained_with_contrastive = bool(pretrained_with_contrastive)\n",
    "\n",
    "    print(' -> Preparing Data \\n')\n",
    "    \n",
    "    train_data = pd.read_csv(\"../data/new_train_tp.csv\")\n",
    "    train_index, val_index = get_split(fold=fold_idx)\n",
    "    fold_train_dict = convert_csv_to_dict_for_dataloader(train_data.iloc[train_index])\n",
    "    fold_valid_dict = convert_csv_to_dict_for_dataloader(train_data.iloc[val_index])\n",
    "\n",
    "    balanced_train_data_loader = BalancedMelSampler(\n",
    "        fold_train_dict,\n",
    "        batch_size=64,\n",
    "        max_length=NUM_FRAMES,\n",
    "        is_train=True,\n",
    "        n_classes=24,\n",
    "        use_cutmix=True,\n",
    "        cache=True,\n",
    "        n_classes_in_batch=8,\n",
    "        shuffle_aug=False,\n",
    "    )\n",
    "\n",
    "    valid_data_loader = MelSampler(\n",
    "        fold_valid_dict,\n",
    "        batch_size=balanced_train_data_loader.batch_size,\n",
    "        n_classes=balanced_train_data_loader.n_classes,\n",
    "        cache=True,\n",
    "        max_length=NUM_FRAMES,\n",
    "        is_train=False,\n",
    "        use_cutmix=False,\n",
    "        shuffle_aug=balanced_train_data_loader.shuffle_aug,\n",
    "    )\n",
    "\n",
    "    print(' -> Preparing Model \\n')\n",
    "    model = get_model(\n",
    "        saved_path=saved_path,\n",
    "        pretrained_with_contrastive=pretrained_with_contrastive,\n",
    "        pretrained_path=pretrained_path,\n",
    "    )\n",
    "    model._build()\n",
    "    \n",
    "    scheduler = tfa.optimizers.Triangular2CyclicalLearningRate(\n",
    "        initial_learning_rate=5e-5,\n",
    "        maximal_learning_rate=1e-3,\n",
    "        step_size=15 * 30,\n",
    "    )\n",
    "    \n",
    "    optimizer = tf.keras.mixed_precision.experimental.LossScaleOptimizer(\n",
    "        tfa.optimizers.Lookahead(\n",
    "            tf.keras.optimizers.Adam(learning_rate=scheduler),\n",
    "            10,\n",
    "            0.5,\n",
    "        ),\n",
    "        \"dynamic\",\n",
    "    )\n",
    "    \n",
    "    model.compile(\n",
    "        optimizer=optimizer,\n",
    "        metrics=[TFLWLRAP(num_classes=24, name=\"lwlrap\"), get_lr_metric(optimizer)],\n",
    "        metric_loss_fn=NpairsLoss(temperature=0.1, name=\"n_pairs\"),\n",
    "        classification_loss_fn=tf.keras.losses.BinaryCrossentropy(from_logits=False),\n",
    "    )\n",
    "\n",
    "#     model.summary()\n",
    "#     return 0\n",
    "\n",
    "    print(' -> Training Model \\n')\n",
    "\n",
    "    callbacks = get_callbacks(pretrained_with_contrastive, fold_idx, saved_path=saved_path)\n",
    "    steps_per_epoch = int((len(fold_train_dict)) / balanced_train_data_loader.batch_size)\n",
    "    \n",
    "    model.fit(\n",
    "        balanced_train_data_loader,\n",
    "        steps_per_epoch=steps_per_epoch,\n",
    "        epochs=100,\n",
    "        validation_data=valid_data_loader,\n",
    "        callbacks=callbacks,\n",
    "        verbose=2\n",
    "    )"
   ]
  },
  {
   "cell_type": "code",
   "execution_count": 11,
   "metadata": {},
   "outputs": [],
   "source": [
    "DEBUG = False\n",
    "pretrained_folder = \"../logs/2021-01-28/1/\"\n",
    "log_folder = \"../logs/\""
   ]
  },
  {
   "cell_type": "code",
   "execution_count": null,
   "metadata": {
    "scrolled": false
   },
   "outputs": [
    {
     "name": "stdout",
     "output_type": "stream",
     "text": [
      "Logging results to ../logs/2021-01-28/11/\n",
      "\n",
      "-------------   Fold 1 / 5  -------------\n",
      "\n",
      " -> Preparing Data \n",
      "\n",
      " -> Preparing Model \n",
      "\n",
      " -> Loading weights from ../logs/2021-01-28/1/pretrained_best_fold0.h5\n",
      "\n",
      " -> Training Model \n",
      "\n",
      "Epoch 1/100\n",
      "WARNING:tensorflow:From /usr/local/lib/python3.6/dist-packages/tensorflow/python/util/deprecation.py:574: calling map_fn_v2 (from tensorflow.python.ops.map_fn) with dtype is deprecated and will be removed in a future version.\n",
      "Instructions for updating:\n",
      "Use fn_output_signature instead\n",
      "15/15 - 8s - loss: 0.1731 - lwlrap: 0.2387 - val_loss: 0.1799 - val_lwlrap: 0.3126\n",
      "Epoch 2/100\n",
      "15/15 - 6s - loss: 0.1415 - lwlrap: 0.4427 - val_loss: 0.1775 - val_lwlrap: 0.4629\n",
      "Epoch 3/100\n",
      "15/15 - 6s - loss: 0.1525 - lwlrap: 0.5908 - val_loss: 0.1636 - val_lwlrap: 0.5416\n",
      "Epoch 4/100\n",
      "15/15 - 6s - loss: 0.2048 - lwlrap: 0.6641 - val_loss: 0.1474 - val_lwlrap: 0.6033\n",
      "Epoch 5/100\n",
      "15/15 - 6s - loss: 0.0989 - lwlrap: 0.7459 - val_loss: 0.1342 - val_lwlrap: 0.6584\n",
      "Epoch 6/100\n"
     ]
    }
   ],
   "source": [
    "if not DEBUG:\n",
    "    log_folder = prepare_log_folder(LOG_PATH)\n",
    "    print(f'Logging results to {log_folder}')\n",
    "    create_logger(directory=log_folder, name=\"logs.txt\")\n",
    "    \n",
    "for fold_idx in range(5):\n",
    "    print(f\"\\n-------------   Fold {fold_idx + 1} / {5}  -------------\\n\")\n",
    "    \n",
    "    main(\n",
    "        fold_idx, \n",
    "        log_folder, \n",
    "        pretrained_folder + f\"pretrained_best_fold{fold_idx}.h5\", \n",
    "        pretrained_with_contrastive=False\n",
    "    )\n",
    "    \n",
    "    if DEBUG:\n",
    "        break"
   ]
  }
 ],
 "metadata": {
  "kernelspec": {
   "display_name": "Python 3",
   "language": "python",
   "name": "python3"
  }
 },
 "nbformat": 4,
 "nbformat_minor": 4
}
