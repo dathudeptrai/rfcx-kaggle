{
 "cells": [
  {
   "cell_type": "code",
   "execution_count": 1,
   "metadata": {},
   "outputs": [],
   "source": [
    "%load_ext autoreload\n",
    "%autoreload 2"
   ]
  },
  {
   "cell_type": "code",
   "execution_count": 2,
   "metadata": {},
   "outputs": [
    {
     "name": "stdout",
     "output_type": "stream",
     "text": [
      "/tf/notebooks/src\n"
     ]
    }
   ],
   "source": [
    "cd ../src/"
   ]
  },
  {
   "cell_type": "markdown",
   "metadata": {},
   "source": [
    "## Intialization"
   ]
  },
  {
   "cell_type": "markdown",
   "metadata": {},
   "source": [
    "### GPU"
   ]
  },
  {
   "cell_type": "code",
   "execution_count": 3,
   "metadata": {},
   "outputs": [
    {
     "data": {
      "text/plain": [
       "[PhysicalDevice(name='/physical_device:GPU:0', device_type='GPU')]"
      ]
     },
     "execution_count": 3,
     "metadata": {},
     "output_type": "execute_result"
    }
   ],
   "source": [
    "import tensorflow as tf\n",
    "tf.config.list_physical_devices('GPU')"
   ]
  },
  {
   "cell_type": "markdown",
   "metadata": {},
   "source": [
    "### Packages"
   ]
  },
  {
   "cell_type": "code",
   "execution_count": 4,
   "metadata": {
    "scrolled": true
   },
   "outputs": [],
   "source": [
    "try:\n",
    "    import pandas\n",
    "except:\n",
    "    !pip install pandas iterative-stratification nlpaug==0.0.20 tqdm click tensorflow_probability==0.11.1 tf2_resnets tensorflow_addons==0.11.1 image-classifiers==0.2.2"
   ]
  },
  {
   "cell_type": "markdown",
   "metadata": {},
   "source": [
    "### Imports"
   ]
  },
  {
   "cell_type": "code",
   "execution_count": 5,
   "metadata": {},
   "outputs": [
    {
     "name": "stderr",
     "output_type": "stream",
     "text": [
      "/usr/local/lib/python3.6/dist-packages/tensorflow_addons/utils/ensure_tf_install.py:68: UserWarning: Tensorflow Addons supports using Python ops for all Tensorflow versions above or equal to 2.2.0 and strictly below 2.4.0 (nightly versions are not supported). \n",
      " The versions of TensorFlow you are currently using is 2.4.1 and is not supported. \n",
      "Some things might work, some things might not.\n",
      "If you were to encounter a bug, do not file an issue.\n",
      "If you want to make sure you're using a tested and supported configuration, either change the TensorFlow version or the TensorFlow Addons's version. \n",
      "You can find the compatibility matrix in TensorFlow Addon's readme:\n",
      "https://github.com/tensorflow/addons\n",
      "  UserWarning,\n"
     ]
    }
   ],
   "source": [
    "import os\n",
    "import random\n",
    "import logging\n",
    "import warnings\n",
    "\n",
    "import numpy as np\n",
    "import pandas as pd\n",
    "import tensorflow as tf\n",
    "import tensorflow_addons as tfa\n",
    "import matplotlib.pyplot as plt\n",
    "\n",
    "from dataloaders.train import BalancedMelSampler\n",
    "from dataloaders.val import MelSampler\n",
    "from dataloaders.utils import csv_to_dict\n",
    "\n",
    "from losses import NpairsLoss, MovingAverageBCE\n",
    "from metrics import TFLWLRAP\n",
    "from split_data import get_split\n",
    "from train import get_model, get_callbacks\n",
    "from models import NUM_FRAMES, Classifier, DeepMetricLearning"
   ]
  },
  {
   "cell_type": "code",
   "execution_count": 6,
   "metadata": {},
   "outputs": [],
   "source": [
    "from params import *\n",
    "from utils.logger import prepare_log_folder, create_logger"
   ]
  },
  {
   "cell_type": "markdown",
   "metadata": {},
   "source": [
    "### Setup"
   ]
  },
  {
   "cell_type": "code",
   "execution_count": 7,
   "metadata": {},
   "outputs": [],
   "source": [
    "os.environ[\"TF_DETERMINISTIC_OPS\"] = \"1\"\n",
    "os.environ[\"SM_FRAMEWORK\"] = \"tf.keras\"\n",
    "\n",
    "physical_devices = tf.config.list_physical_devices(\"GPU\")\n",
    "for i in range(len(physical_devices)):\n",
    "    tf.config.experimental.set_memory_growth(physical_devices[i], True)\n",
    "tf.config.optimizer.set_experimental_options({\"auto_mixed_precision\": True})\n",
    "\n",
    "random.seed(42)\n",
    "np.random.seed(42)\n",
    "tf.random.set_seed(42)"
   ]
  },
  {
   "cell_type": "markdown",
   "metadata": {},
   "source": [
    "## Main"
   ]
  },
  {
   "cell_type": "code",
   "execution_count": 8,
   "metadata": {},
   "outputs": [],
   "source": [
    "def main(fold_idx=0, batch_size=64, saved_path=\"\", pretrained_path=\"\", model_name=\"\"):\n",
    "    os.makedirs(os.path.join(saved_path, f\"fold{fold_idx}\"), exist_ok=True)\n",
    "\n",
    "    print(' -> Preparing Data \\n')\n",
    "    \n",
    "    train_data = pd.read_csv(\"../data/new_train_tp.csv\")\n",
    "\n",
    "    train_index, val_index = get_split(fold=fold_idx)\n",
    "    \n",
    "    fold_train_dict = csv_to_dict(train_data.iloc[train_index])\n",
    "    fold_valid_dict = csv_to_dict(train_data.iloc[val_index])\n",
    "\n",
    "    balanced_train_data_loader = BalancedMelSampler(\n",
    "        fold_train_dict,\n",
    "        batch_size=batch_size,\n",
    "        max_length=NUM_FRAMES,\n",
    "        n_classes=24,\n",
    "        use_cutmix=True,\n",
    "        n_classes_in_batch=8,\n",
    "    )\n",
    "\n",
    "    valid_data_loader = MelSampler(\n",
    "        fold_valid_dict,\n",
    "        batch_size=batch_size,\n",
    "        n_classes=24,\n",
    "        max_length=NUM_FRAMES,\n",
    "    )\n",
    "\n",
    "    print(' -> Preparing Model \\n')\n",
    "    model = get_model(\n",
    "        model_name=model_name,\n",
    "        saved_path=saved_path,\n",
    "        pretrained_with_contrastive=False,\n",
    "        pretrained_path=pretrained_path,\n",
    "    )\n",
    "    model._build()\n",
    "    \n",
    "    scheduler = tfa.optimizers.Triangular2CyclicalLearningRate(\n",
    "        initial_learning_rate=1e-4,\n",
    "        maximal_learning_rate=1e-3,\n",
    "        step_size=50,\n",
    "    )\n",
    "    \n",
    "    optimizer = tf.keras.mixed_precision.experimental.LossScaleOptimizer(\n",
    "        tfa.optimizers.Lookahead(\n",
    "            tf.keras.optimizers.Adam(learning_rate=scheduler),\n",
    "            10,\n",
    "            0.5,\n",
    "        ),\n",
    "        \"dynamic\",\n",
    "    )\n",
    "    \n",
    "    step_per_epoch = int((len(fold_train_dict)) / balanced_train_data_loader.batch_size)\n",
    "    ma_bce = MovingAverageBCE(\n",
    "        train_data.iloc[train_index],\n",
    "        start_apply_step=20 * step_per_epoch,\n",
    "        momentum=0.9,\n",
    "        name=\"moving_average_loss\",\n",
    "    )\n",
    "    \n",
    "    model.compile(\n",
    "        optimizer=optimizer,\n",
    "        metrics=[TFLWLRAP(num_classes=24, name=\"lwlrap\")],\n",
    "        metric_loss_fn=NpairsLoss(temperature=0.1, name=\"n_pairs\"),\n",
    "        classification_loss_fn=tf.keras.losses.BinaryCrossentropy(from_logits=True),\n",
    "        moving_average_bce=ma_bce,\n",
    "    )   \n",
    "\n",
    "    print(' -> Training Model \\n')\n",
    "\n",
    "    callbacks = get_callbacks(False, fold_idx, saved_path=saved_path)\n",
    "    steps_per_epoch = int((len(fold_train_dict)) / balanced_train_data_loader.batch_size)\n",
    "    \n",
    "    model.fit(\n",
    "        balanced_train_data_loader,\n",
    "        steps_per_epoch=steps_per_epoch,\n",
    "        epochs=100,\n",
    "        validation_data=valid_data_loader,\n",
    "        callbacks=callbacks,\n",
    "        verbose=2\n",
    "    )"
   ]
  },
  {
   "cell_type": "code",
   "execution_count": 9,
   "metadata": {},
   "outputs": [],
   "source": [
    "DEBUG = False\n",
    "pretrained_folder = \"../logs/2021-02-04/3/\"   # simple\n",
    "log_folder = \"../logs/\""
   ]
  },
  {
   "cell_type": "code",
   "execution_count": 10,
   "metadata": {},
   "outputs": [],
   "source": [
    "MODELS = [\n",
    "#     'densenet121',\n",
    "    'resnet18',\n",
    "    'resnet34',\n",
    "    'resnext50',\n",
    "    'efficientnetb2',\n",
    "    \"xception\",\n",
    "]\n",
    "\n",
    "BIGGER_MODELS = [  # BS = 32\n",
    "    'resnest50',\n",
    "    'efficientnetb3',\n",
    "#     'efficientnetb4',\n",
    "]"
   ]
  },
  {
   "cell_type": "code",
   "execution_count": 11,
   "metadata": {},
   "outputs": [],
   "source": [
    "PRETRAINED_FOLDERS = {\n",
    "    'densenet121': \"../logs/2021-02-04/3/\",\n",
    "    'resnet18': \"../logs/2021-02-13/14/\",\n",
    "    'resnet34': \"../logs/2021-02-14/0/\",\n",
    "    'resnext50': \"../logs/2021-02-14/1/\",\n",
    "    'efficientnetb2': \"../logs/2021-02-14/2/\",\n",
    "    \"xception\": \"../logs/2021-02-14/3/\",\n",
    "    \"resnest50\": \"../logs/2021-02-14/5/\",\n",
    "    \"efficientnetb3\": \"../logs/2021-02-14/6/\",\n",
    "}"
   ]
  },
  {
   "cell_type": "code",
   "execution_count": null,
   "metadata": {
    "scrolled": true
   },
   "outputs": [
    {
     "name": "stdout",
     "output_type": "stream",
     "text": [
      "\n",
      "\n",
      "Model resnet18\n",
      "\n",
      "\n",
      "Logging results to ../logs/2021-02-14/8/\n",
      "\n",
      "-------------   Fold 1 / 5  -------------\n",
      "\n",
      " -> Preparing Data \n",
      "\n",
      " -> Preparing Model \n",
      "\n",
      " -> Loading weights from ../logs/2021-02-13/14/pretrained_best_fold0.h5\n",
      "\n",
      "WARNING:tensorflow:tf.keras.mixed_precision.experimental.LossScaleOptimizer is deprecated. Please use tf.keras.mixed_precision.LossScaleOptimizer instead. For example\n",
      "  opt = tf.keras.mixed_precision.experimental.LossScaleOptimizer(opt)\n",
      " -> Training Model \n",
      "\n",
      "Epoch 1/100\n",
      "WARNING:tensorflow:From /usr/local/lib/python3.6/dist-packages/tensorflow/python/util/deprecation.py:605: calling map_fn_v2 (from tensorflow.python.ops.map_fn) with dtype is deprecated and will be removed in a future version.\n",
      "Instructions for updating:\n",
      "Use fn_output_signature instead\n",
      "15/15 - 17s - loss: 0.4637 - lwlrap: 0.2052 - val_loss: 0.3933 - val_lwlrap: 0.3053\n",
      "Epoch 2/100\n",
      "15/15 - 4s - loss: 0.1839 - lwlrap: 0.2351 - val_loss: 0.3141 - val_lwlrap: 0.4787\n",
      "Epoch 3/100\n",
      "15/15 - 3s - loss: 0.1554 - lwlrap: 0.3377 - val_loss: 0.1837 - val_lwlrap: 0.5881\n",
      "Epoch 4/100\n",
      "15/15 - 3s - loss: 0.1662 - lwlrap: 0.4544 - val_loss: 0.1741 - val_lwlrap: 0.7189\n",
      "Epoch 5/100\n",
      "15/15 - 3s - loss: 0.2670 - lwlrap: 0.5448 - val_loss: 0.1195 - val_lwlrap: 0.6729\n",
      "Epoch 6/100\n",
      "15/15 - 3s - loss: 0.2360 - lwlrap: 0.6010 - val_loss: 0.1111 - val_lwlrap: 0.7979\n",
      "Epoch 7/100\n",
      "15/15 - 3s - loss: 0.2027 - lwlrap: 0.6246 - val_loss: 0.1083 - val_lwlrap: 0.8051\n",
      "Epoch 8/100\n",
      "15/15 - 3s - loss: 0.2020 - lwlrap: 0.6829 - val_loss: 0.1011 - val_lwlrap: 0.8147\n",
      "Epoch 9/100\n",
      "15/15 - 3s - loss: 0.0784 - lwlrap: 0.7692 - val_loss: 0.0955 - val_lwlrap: 0.7823\n",
      "Epoch 10/100\n",
      "15/15 - 3s - loss: 0.0664 - lwlrap: 0.7279 - val_loss: 0.0874 - val_lwlrap: 0.8141\n",
      "Epoch 11/100\n",
      "15/15 - 3s - loss: 0.0773 - lwlrap: 0.7094 - val_loss: 0.0889 - val_lwlrap: 0.8095\n",
      "Epoch 12/100\n",
      "15/15 - 3s - loss: 0.2221 - lwlrap: 0.7130 - val_loss: 0.0862 - val_lwlrap: 0.8228\n",
      "Epoch 13/100\n",
      "15/15 - 3s - loss: 0.0862 - lwlrap: 0.7855 - val_loss: 0.0849 - val_lwlrap: 0.8313\n",
      "Epoch 14/100\n",
      "15/15 - 3s - loss: 0.0577 - lwlrap: 0.8210 - val_loss: 0.0835 - val_lwlrap: 0.8222\n",
      "Epoch 15/100\n",
      "15/15 - 3s - loss: 0.0775 - lwlrap: 0.8145 - val_loss: 0.0782 - val_lwlrap: 0.8093\n",
      "Epoch 16/100\n",
      "15/15 - 3s - loss: 0.0586 - lwlrap: 0.8159 - val_loss: 0.0824 - val_lwlrap: 0.8210\n",
      "Epoch 17/100\n",
      "15/15 - 3s - loss: 0.1605 - lwlrap: 0.8055 - val_loss: 0.0862 - val_lwlrap: 0.8264\n",
      "Epoch 18/100\n",
      "15/15 - 3s - loss: 0.1743 - lwlrap: 0.8032 - val_loss: 0.0779 - val_lwlrap: 0.8148\n",
      "Epoch 19/100\n",
      "15/15 - 3s - loss: 0.0529 - lwlrap: 0.8404 - val_loss: 0.0825 - val_lwlrap: 0.8276\n",
      "Epoch 20/100\n",
      "15/15 - 3s - loss: 0.0579 - lwlrap: 0.8518 - val_loss: 0.0830 - val_lwlrap: 0.8297\n",
      "Epoch 21/100\n",
      "15/15 - 3s - loss: 0.0544 - lwlrap: 0.8397 - val_loss: 0.0832 - val_lwlrap: 0.7942\n",
      "Epoch 22/100\n",
      "15/15 - 3s - loss: 0.0619 - lwlrap: 0.8520 - val_loss: 0.0827 - val_lwlrap: 0.8135\n",
      "Epoch 23/100\n",
      "15/15 - 3s - loss: 0.1598 - lwlrap: 0.8399 - val_loss: 0.0897 - val_lwlrap: 0.7971\n",
      "Epoch 24/100\n",
      "15/15 - 3s - loss: 0.1320 - lwlrap: 0.8455 - val_loss: 0.0891 - val_lwlrap: 0.8102\n",
      "Epoch 25/100\n",
      "15/15 - 3s - loss: 0.0714 - lwlrap: 0.8641 - val_loss: 0.0885 - val_lwlrap: 0.8039\n",
      "Epoch 26/100\n",
      "15/15 - 3s - loss: 0.1338 - lwlrap: 0.9073 - val_loss: 0.0854 - val_lwlrap: 0.8168\n",
      "Epoch 27/100\n",
      "15/15 - 3s - loss: 0.1293 - lwlrap: 0.8772 - val_loss: 0.0809 - val_lwlrap: 0.8212\n",
      "Epoch 28/100\n",
      "15/15 - 3s - loss: 0.0875 - lwlrap: 0.8926 - val_loss: 0.0803 - val_lwlrap: 0.8201\n",
      "Epoch 29/100\n",
      "15/15 - 3s - loss: 0.1344 - lwlrap: 0.8683 - val_loss: 0.0879 - val_lwlrap: 0.8124\n",
      "Epoch 30/100\n",
      "15/15 - 3s - loss: 0.1269 - lwlrap: 0.8718 - val_loss: 0.0796 - val_lwlrap: 0.8226\n",
      "Epoch 31/100\n",
      "15/15 - 3s - loss: 0.1141 - lwlrap: 0.8892 - val_loss: 0.0875 - val_lwlrap: 0.8244\n",
      "Epoch 32/100\n",
      "15/15 - 3s - loss: 0.1020 - lwlrap: 0.9053 - val_loss: 0.0811 - val_lwlrap: 0.8301\n",
      "Epoch 33/100\n",
      "15/15 - 3s - loss: 0.0991 - lwlrap: 0.9093 - val_loss: 0.0861 - val_lwlrap: 0.8186\n",
      "Epoch 34/100\n",
      "15/15 - 3s - loss: 0.1118 - lwlrap: 0.9074 - val_loss: 0.0837 - val_lwlrap: 0.8244\n",
      "Epoch 35/100\n",
      "15/15 - 3s - loss: 0.1115 - lwlrap: 0.8943 - val_loss: 0.0879 - val_lwlrap: 0.8215\n",
      "Epoch 36/100\n",
      "15/15 - 3s - loss: 0.1237 - lwlrap: 0.9056 - val_loss: 0.0836 - val_lwlrap: 0.8303\n",
      "Epoch 37/100\n",
      "15/15 - 3s - loss: 0.0963 - lwlrap: 0.8994 - val_loss: 0.0879 - val_lwlrap: 0.8304\n",
      "Epoch 38/100\n",
      "15/15 - 3s - loss: 0.1169 - lwlrap: 0.8928 - val_loss: 0.0905 - val_lwlrap: 0.8193\n",
      "Epoch 39/100\n",
      "15/15 - 3s - loss: 0.1111 - lwlrap: 0.9369 - val_loss: 0.0927 - val_lwlrap: 0.8207\n",
      "Epoch 40/100\n",
      "15/15 - 3s - loss: 0.1375 - lwlrap: 0.9148 - val_loss: 0.0935 - val_lwlrap: 0.8201\n",
      "Epoch 41/100\n",
      "15/15 - 3s - loss: 0.0955 - lwlrap: 0.9162 - val_loss: 0.0941 - val_lwlrap: 0.8282\n",
      "Epoch 42/100\n",
      "15/15 - 3s - loss: 0.0875 - lwlrap: 0.9108 - val_loss: 0.0940 - val_lwlrap: 0.8284\n",
      "Epoch 43/100\n",
      "15/15 - 3s - loss: 0.0933 - lwlrap: 0.9222 - val_loss: 0.0937 - val_lwlrap: 0.8044\n",
      "\n",
      "-------------   Fold 2 / 5  -------------\n",
      "\n",
      " -> Preparing Data \n",
      "\n"
     ]
    }
   ],
   "source": [
    "for model_name in MODELS:\n",
    "    print(f\"\\n\\nModel {model_name}\\n\\n\")\n",
    "    if not DEBUG:\n",
    "        log_folder = prepare_log_folder(LOG_PATH)\n",
    "        print(f'Logging results to {log_folder}')\n",
    "        create_logger(directory=log_folder, name=\"logs.txt\")\n",
    "\n",
    "    for fold_idx in range(5):\n",
    "        tf.keras.backend.clear_session()\n",
    "        print(f\"\\n-------------   Fold {fold_idx + 1} / {5}  -------------\\n\")\n",
    "\n",
    "        main(\n",
    "            model_name=model_name,\n",
    "            fold_idx=fold_idx, \n",
    "            saved_path=log_folder, \n",
    "            pretrained_path=PRETRAINED_FOLDERS[model_name] + f\"pretrained_best_fold{fold_idx}.h5\",\n",
    "        )\n",
    "\n",
    "        if DEBUG:\n",
    "            break"
   ]
  },
  {
   "cell_type": "code",
   "execution_count": null,
   "metadata": {
    "scrolled": true
   },
   "outputs": [],
   "source": [
    "for model_name in BIGGER_MODELS:\n",
    "    print(f\"\\n\\nModel {model_name}\\n\\n\")\n",
    "    if not DEBUG:\n",
    "        log_folder = prepare_log_folder(LOG_PATH)\n",
    "        print(f'Logging results to {log_folder}')\n",
    "        create_logger(directory=log_folder, name=\"logs.txt\")\n",
    "\n",
    "    for fold_idx in range(5):\n",
    "        tf.keras.backend.clear_session()\n",
    "        print(f\"\\n-------------   Fold {fold_idx + 1} / {5}  -------------\\n\")\n",
    "\n",
    "        main(\n",
    "            model_name=model_name,\n",
    "            batch_size=32,\n",
    "            fold_idx=fold_idx, \n",
    "            saved_path=log_folder, \n",
    "            pretrained_path=PRETRAINED_FOLDERS[model_name] + f\"pretrained_best_fold{fold_idx}.h5\",\n",
    "        )\n",
    "\n",
    "        if DEBUG:\n",
    "            break"
   ]
  }
 ],
 "metadata": {
  "kernelspec": {
   "display_name": "Python 3",
   "language": "python",
   "name": "python3"
  },
  "language_info": {
   "codemirror_mode": {
    "name": "ipython",
    "version": 3
   },
   "file_extension": ".py",
   "mimetype": "text/x-python",
   "name": "python",
   "nbconvert_exporter": "python",
   "pygments_lexer": "ipython3",
   "version": "3.6.9"
  }
 },
 "nbformat": 4,
 "nbformat_minor": 4
}
