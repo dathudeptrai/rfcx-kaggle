{
 "cells": [
  {
   "cell_type": "code",
   "execution_count": 1,
   "metadata": {},
   "outputs": [],
   "source": [
    "%load_ext autoreload\n",
    "%autoreload 2"
   ]
  },
  {
   "cell_type": "code",
   "execution_count": 2,
   "metadata": {},
   "outputs": [
    {
     "name": "stdout",
     "output_type": "stream",
     "text": [
      "/tf/notebooks/src\n"
     ]
    }
   ],
   "source": [
    "cd ../src/"
   ]
  },
  {
   "cell_type": "markdown",
   "metadata": {},
   "source": [
    "## Intialization"
   ]
  },
  {
   "cell_type": "code",
   "execution_count": 3,
   "metadata": {
    "scrolled": true
   },
   "outputs": [],
   "source": [
    "try:\n",
    "    import pandas\n",
    "except:\n",
    "    !pip install pandas iterative-stratification nlpaug==0.0.20 tqdm click tensorflow_probability==0.11.1 tf2_resnets tensorflow_addons==0.11.1 image-classifiers==0.2.2"
   ]
  },
  {
   "cell_type": "markdown",
   "metadata": {},
   "source": [
    "### Imports"
   ]
  },
  {
   "cell_type": "code",
   "execution_count": 4,
   "metadata": {},
   "outputs": [],
   "source": [
    "import os\n",
    "import numpy as np\n",
    "import pandas as pd\n",
    "import matplotlib.pyplot as plt\n",
    "\n",
    "from tqdm import tqdm\n",
    "from collections import Counter"
   ]
  },
  {
   "cell_type": "code",
   "execution_count": 5,
   "metadata": {},
   "outputs": [],
   "source": [
    "from utils.metric import lwlrap"
   ]
  },
  {
   "cell_type": "code",
   "execution_count": 6,
   "metadata": {},
   "outputs": [],
   "source": [
    "from params import *\n",
    "from train import get_model\n",
    "from params import TEST_MELS_PATH, TRAIN_MELS_PATH"
   ]
  },
  {
   "cell_type": "code",
   "execution_count": 7,
   "metadata": {},
   "outputs": [],
   "source": [
    "# CP_FOLDER = LOG_PATH + \"2021-02-04/9/\"\n",
    "# CP_FOLDER = LOG_PATH + \"2021-02-04/12/\"\n",
    "# CP_FOLDER = \"../data/densenet121_pretrained/\"  # 0.897"
   ]
  },
  {
   "cell_type": "code",
   "execution_count": 8,
   "metadata": {},
   "outputs": [],
   "source": [
    "CP_FOLDERS = [\n",
    "#     LOG_PATH + \"2021-02-04/9/\",\n",
    "    \"../logs/2021-02-13/13/\"\n",
    "#     LOG_PATH + \"2021-02-04/12/\",\n",
    "]\n",
    "\n",
    "# CP_FOLDERS = [\n",
    "#     \"../logs/2021-02-13/0/\",\n",
    "#     \"../logs/2021-02-13/1/\",\n",
    "#     \"../logs/2021-02-13/2/\",\n",
    "#     \"../logs/2021-02-13/3/\",\n",
    "#     \"../logs/2021-02-13/4/\",\n",
    "#     \"../logs/2021-02-13/5/\",\n",
    "# ]"
   ]
  },
  {
   "cell_type": "markdown",
   "metadata": {},
   "source": [
    "## Test"
   ]
  },
  {
   "cell_type": "code",
   "execution_count": 9,
   "metadata": {},
   "outputs": [],
   "source": [
    "sub = pd.read_csv(DATA_PATH + \"sample_submission.csv\")"
   ]
  },
  {
   "cell_type": "code",
   "execution_count": 10,
   "metadata": {},
   "outputs": [],
   "source": [
    "ref = pd.read_csv(DATA_PATH + \"sub930_top5.csv\")"
   ]
  },
  {
   "cell_type": "code",
   "execution_count": 11,
   "metadata": {},
   "outputs": [],
   "source": [
    "preds = []\n",
    "\n",
    "for cp in CP_FOLDERS:\n",
    "    for fold_idx in range(5):\n",
    "        try:\n",
    "            pred = np.load(cp + f\"preds/pred_agg_{fold_idx}.npy\")\n",
    "            preds.append(pred)\n",
    "            \n",
    "            break\n",
    "        except:\n",
    "            pass\n",
    "    \n",
    "preds = np.mean(preds, 0)"
   ]
  },
  {
   "cell_type": "code",
   "execution_count": 12,
   "metadata": {},
   "outputs": [
    {
     "name": "stdout",
     "output_type": "stream",
     "text": [
      "Ref score : 0.8338\n"
     ]
    }
   ],
   "source": [
    "score = lwlrap(ref[ref.columns[1:]].values, preds)[-1]\n",
    "print(f'Ref score : {score:.4f}')"
   ]
  },
  {
   "cell_type": "code",
   "execution_count": 39,
   "metadata": {},
   "outputs": [],
   "source": [
    "sub[sub.columns[1:]] = preds"
   ]
  },
  {
   "cell_type": "code",
   "execution_count": 40,
   "metadata": {},
   "outputs": [
    {
     "name": "stdout",
     "output_type": "stream",
     "text": [
      "Saved submission to ../output/submission_0.9447.csv\n"
     ]
    }
   ],
   "source": [
    "sub.to_csv(OUT_DIR + F\"submission_{score:.4f}.csv\", index=False)\n",
    "\n",
    "print(f'Saved submission to {OUT_DIR + F\"submission_{score:.4f}.csv\"}')"
   ]
  },
  {
   "cell_type": "markdown",
   "metadata": {},
   "source": [
    "## Train"
   ]
  }
 ],
 "metadata": {
  "kernelspec": {
   "display_name": "Python 3",
   "language": "python",
   "name": "python3"
  },
  "language_info": {
   "codemirror_mode": {
    "name": "ipython",
    "version": 3
   },
   "file_extension": ".py",
   "mimetype": "text/x-python",
   "name": "python",
   "nbconvert_exporter": "python",
   "pygments_lexer": "ipython3",
   "version": "3.6.9"
  }
 },
 "nbformat": 4,
 "nbformat_minor": 4
}
