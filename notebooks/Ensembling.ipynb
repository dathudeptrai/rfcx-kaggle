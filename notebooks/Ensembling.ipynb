{
 "cells": [
  {
   "cell_type": "code",
   "execution_count": 9,
   "metadata": {},
   "outputs": [
    {
     "name": "stdout",
     "output_type": "stream",
     "text": [
      "The autoreload extension is already loaded. To reload it, use:\n",
      "  %reload_ext autoreload\n"
     ]
    }
   ],
   "source": [
    "%load_ext autoreload\n",
    "%autoreload 2"
   ]
  },
  {
   "cell_type": "code",
   "execution_count": 10,
   "metadata": {},
   "outputs": [
    {
     "name": "stdout",
     "output_type": "stream",
     "text": [
      "/tf/notebooks/src\n"
     ]
    }
   ],
   "source": [
    "cd ../src/"
   ]
  },
  {
   "cell_type": "markdown",
   "metadata": {},
   "source": [
    "## Intialization"
   ]
  },
  {
   "cell_type": "code",
   "execution_count": 11,
   "metadata": {
    "scrolled": true
   },
   "outputs": [],
   "source": [
    "try:\n",
    "    import pandas\n",
    "except:\n",
    "    !pip install pandas iterative-stratification nlpaug==0.0.20 tqdm click tensorflow_probability==0.11.1 tf2_resnets tensorflow_addons==0.11.1 image-classifiers==0.2.2"
   ]
  },
  {
   "cell_type": "markdown",
   "metadata": {},
   "source": [
    "### Imports"
   ]
  },
  {
   "cell_type": "code",
   "execution_count": 12,
   "metadata": {},
   "outputs": [],
   "source": [
    "import os\n",
    "import numpy as np\n",
    "import pandas as pd\n",
    "import matplotlib.pyplot as plt\n",
    "\n",
    "from tqdm import tqdm\n",
    "from collections import Counter"
   ]
  },
  {
   "cell_type": "code",
   "execution_count": 13,
   "metadata": {},
   "outputs": [],
   "source": [
    "from utils.metric import lwlrap"
   ]
  },
  {
   "cell_type": "code",
   "execution_count": 14,
   "metadata": {},
   "outputs": [],
   "source": [
    "from params import *\n",
    "from train import get_model\n",
    "from params import TEST_MELS_PATH, TRAIN_MELS_PATH"
   ]
  },
  {
   "cell_type": "markdown",
   "metadata": {},
   "source": [
    "## Tools"
   ]
  },
  {
   "cell_type": "code",
   "execution_count": 15,
   "metadata": {},
   "outputs": [],
   "source": [
    "def clever_blend(preds, threshold=0.9):\n",
    "    blend = np.zeros(preds[0].shape)\n",
    "    count = np.zeros((1, NUM_CLASSES))\n",
    "    \n",
    "    maxs = np.array([pred.max(0) for pred in preds])\n",
    "    mins = np.array([pred.min(0) for pred in preds])\n",
    "    \n",
    "    use_for_blend = (maxs > threshold).astype(int) #+ (mins < (1 - threshold)).astype(int)\n",
    "    use_for_blend = use_for_blend == 1\n",
    "    \n",
    "    for i in range(len(preds)):\n",
    "        for c in range(NUM_CLASSES):\n",
    "            if use_for_blend[i, c]:\n",
    "                count[:, c] += 1\n",
    "                blend[:, c] += preds[i][:, c]\n",
    "            else:\n",
    "                print(f'Pred {i//5}.{i%5} : Not using class {c}')\n",
    "    \n",
    "    return blend / count"
   ]
  },
  {
   "cell_type": "code",
   "execution_count": 16,
   "metadata": {},
   "outputs": [],
   "source": [
    "CP_FOLDERS = [\n",
    "    \"../logs/2021-02-16/1/\",\n",
    "#     LOG_PATH + \"2021-02-04/9/\",  # 0.9374 / 0.8837  densenet\n",
    "#     \"../logs/2021-02-14/8/\",     # 0.9324 / 0.9254  resnet18\n",
    "#     \"../logs/2021-02-14/9/\",     # 0.9193 / 0.9023  resnet34\n",
    "#     \"../logs/2021-02-14/10/\",    # 0.8849 / 0.8824  resnext50\n",
    "#     \"../logs/2021-02-15/0/\",     # 0.8144 / 0.8281  Effnetb2\n",
    "#     \"../logs/2021-02-15/1/\",     # 0.8635 / 0.8853  xception\n",
    "#     \"../logs/2021-02-15/2/\",     # 0.8314 / 0.8471  resnest50\n",
    "#     \"../logs/2021-02-15/3/\",     # 0.xxxx / 0.7772  effnetb3\n",
    "]"
   ]
  },
  {
   "cell_type": "markdown",
   "metadata": {},
   "source": [
    "# Main"
   ]
  },
  {
   "cell_type": "code",
   "execution_count": 17,
   "metadata": {},
   "outputs": [],
   "source": [
    "sub = pd.read_csv(DATA_PATH + \"sample_submission.csv\")"
   ]
  },
  {
   "cell_type": "code",
   "execution_count": 18,
   "metadata": {},
   "outputs": [],
   "source": [
    "ref = pd.read_csv(DATA_PATH + \"sub930_top5.csv\")\n",
    "y = ref[ref.columns[1:]].values"
   ]
  },
  {
   "cell_type": "code",
   "execution_count": 19,
   "metadata": {},
   "outputs": [],
   "source": [
    "ref = pd.read_csv(\"../output/submission_0941+.csv\")\n",
    "\n",
    "top_k = 5\n",
    "y = []\n",
    "for i in range(len(ref)):\n",
    "    lim = sorted(ref.iloc[i].values[1:])[-top_k]\n",
    "    y.append((ref.iloc[i].values[1:] >= lim).astype(int))\n",
    "    \n",
    "y = np.array(y)\n",
    "# y = (preds > 0.5).astype(int)"
   ]
  },
  {
   "cell_type": "code",
   "execution_count": 21,
   "metadata": {},
   "outputs": [
    {
     "name": "stdout",
     "output_type": "stream",
     "text": [
      "Pred 0.0 : Not using class 19\n",
      "Pred 0.1 : Not using class 19\n",
      "Pred 0.2 : Not using class 19\n"
     ]
    }
   ],
   "source": [
    "preds = []\n",
    "\n",
    "for cp in CP_FOLDERS:\n",
    "    for fold_idx in range(5):\n",
    "        try:\n",
    "            pred = np.load(cp + f\"preds/pred_agg_{fold_idx}.npy\")\n",
    "            preds.append(pred)\n",
    "        except:\n",
    "            print(f'error with {cp}')\n",
    "            pass\n",
    "    \n",
    "# print(len(preds))\n",
    "# preds = np.mean(preds, 0)\n",
    "preds = clever_blend(preds, threshold=0.95)"
   ]
  },
  {
   "cell_type": "code",
   "execution_count": 22,
   "metadata": {},
   "outputs": [
    {
     "name": "stdout",
     "output_type": "stream",
     "text": [
      "Ref score : 0.8566\n"
     ]
    }
   ],
   "source": [
    "score = lwlrap(y, preds)[-1]\n",
    "print(f'Ref score : {score:.4f}')"
   ]
  },
  {
   "cell_type": "code",
   "execution_count": 15,
   "metadata": {},
   "outputs": [],
   "source": [
    "sub[sub.columns[1:]] = preds"
   ]
  },
  {
   "cell_type": "code",
   "execution_count": 17,
   "metadata": {},
   "outputs": [
    {
     "name": "stdout",
     "output_type": "stream",
     "text": [
      "Saved submission to ../output/submission_theo_0.9504.csv\n"
     ]
    }
   ],
   "source": [
    "sub.to_csv(OUT_DIR + F\"submission_theo_{score:.4f}.csv\", index=False)\n",
    "\n",
    "print(f'Saved submission to {OUT_DIR + F\"submission_theo_{score:.4f}.csv\"}')"
   ]
  },
  {
   "cell_type": "markdown",
   "metadata": {},
   "source": [
    "## Train"
   ]
  }
 ],
 "metadata": {
  "kernelspec": {
   "display_name": "Python 3",
   "language": "python",
   "name": "python3"
  },
  "language_info": {
   "codemirror_mode": {
    "name": "ipython",
    "version": 3
   },
   "file_extension": ".py",
   "mimetype": "text/x-python",
   "name": "python",
   "nbconvert_exporter": "python",
   "pygments_lexer": "ipython3",
   "version": "3.6.9"
  }
 },
 "nbformat": 4,
 "nbformat_minor": 4
}
