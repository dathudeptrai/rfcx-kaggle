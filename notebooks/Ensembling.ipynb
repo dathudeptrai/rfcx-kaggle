{
 "cells": [
  {
   "cell_type": "code",
   "execution_count": 62,
   "metadata": {},
   "outputs": [
    {
     "name": "stdout",
     "output_type": "stream",
     "text": [
      "The autoreload extension is already loaded. To reload it, use:\n",
      "  %reload_ext autoreload\n"
     ]
    }
   ],
   "source": [
    "%load_ext autoreload\n",
    "%autoreload 2"
   ]
  },
  {
   "cell_type": "code",
   "execution_count": 63,
   "metadata": {},
   "outputs": [
    {
     "name": "stdout",
     "output_type": "stream",
     "text": [
      "/tf/notebooks/src\n"
     ]
    }
   ],
   "source": [
    "cd ../src/"
   ]
  },
  {
   "cell_type": "markdown",
   "metadata": {},
   "source": [
    "## Intialization"
   ]
  },
  {
   "cell_type": "code",
   "execution_count": 64,
   "metadata": {
    "scrolled": true
   },
   "outputs": [],
   "source": [
    "try:\n",
    "    import pandas\n",
    "except:\n",
    "    !pip install pandas iterative-stratification nlpaug==0.0.20 tqdm click tensorflow_probability==0.11.1 tf2_resnets tensorflow_addons==0.11.1 image-classifiers==0.2.2"
   ]
  },
  {
   "cell_type": "markdown",
   "metadata": {},
   "source": [
    "### Imports"
   ]
  },
  {
   "cell_type": "code",
   "execution_count": 65,
   "metadata": {},
   "outputs": [],
   "source": [
    "import os\n",
    "import numpy as np\n",
    "import pandas as pd\n",
    "import matplotlib.pyplot as plt\n",
    "\n",
    "from tqdm import tqdm\n",
    "from collections import Counter"
   ]
  },
  {
   "cell_type": "code",
   "execution_count": 66,
   "metadata": {},
   "outputs": [],
   "source": [
    "from utils.metric import lwlrap"
   ]
  },
  {
   "cell_type": "code",
   "execution_count": 67,
   "metadata": {},
   "outputs": [],
   "source": [
    "from params import *\n",
    "from train import get_model\n",
    "from params import TEST_MELS_PATH, TRAIN_MELS_PATH"
   ]
  },
  {
   "cell_type": "code",
   "execution_count": 149,
   "metadata": {},
   "outputs": [],
   "source": [
    "CP_FOLDERS = [\n",
    "#     \"../data/densenet121_pretrained/\",  # ref\n",
    "#     LOG_PATH + \"2021-02-04/9/\",  # reproduced ref ?\n",
    "#     LOG_PATH + \"2021-02-04/12/\",  # loader modif\n",
    "#     LOG_PATH + \"2021-02-04/15/\",  # mixup\n",
    "#    LOG_PATH + \"2021-02-05/0/\",  # cutmix + mixup\n",
    "#     LOG_PATH + \"2021-02-06/3/\",  # cutmix + mixup + newfolds\n",
    "    LOG_PATH + \"2021-02-06/14/\",\n",
    "    LOG_PATH + \"2021-02-06/15/\",\n",
    "    LOG_PATH + \"2021-02-06/16/\",\n",
    "]"
   ]
  },
  {
   "cell_type": "markdown",
   "metadata": {},
   "source": [
    "## Test"
   ]
  },
  {
   "cell_type": "code",
   "execution_count": 150,
   "metadata": {},
   "outputs": [],
   "source": [
    "sub = pd.read_csv(DATA_PATH + \"sample_submission.csv\")"
   ]
  },
  {
   "cell_type": "code",
   "execution_count": 151,
   "metadata": {},
   "outputs": [],
   "source": [
    "ref = pd.read_csv(DATA_PATH + \"sub930_top5.csv\")"
   ]
  },
  {
   "cell_type": "code",
   "execution_count": 152,
   "metadata": {},
   "outputs": [],
   "source": [
    "preds = []\n",
    "\n",
    "for cp in CP_FOLDERS:\n",
    "    for fold_idx in range(5):\n",
    "        \n",
    "#         if fold_idx == 0:\n",
    "        try:\n",
    "            pred = np.load(cp + f\"preds/pred_agg_{fold_idx}.npy\")\n",
    "            preds.append(pred)\n",
    "        except:\n",
    "            pass\n",
    "    \n",
    "preds = np.mean(preds, 0)"
   ]
  },
  {
   "cell_type": "code",
   "execution_count": 153,
   "metadata": {},
   "outputs": [
    {
     "name": "stdout",
     "output_type": "stream",
     "text": [
      "Ref score : 0.9274\n"
     ]
    }
   ],
   "source": [
    "score = lwlrap(ref[ref.columns[1:]].values, preds)[-1]\n",
    "print(f'Ref score : {score:.4f}')"
   ]
  },
  {
   "cell_type": "code",
   "execution_count": 154,
   "metadata": {},
   "outputs": [],
   "source": [
    "sub[sub.columns[1:]] = preds"
   ]
  },
  {
   "cell_type": "code",
   "execution_count": 155,
   "metadata": {
    "scrolled": true
   },
   "outputs": [
    {
     "name": "stdout",
     "output_type": "stream",
     "text": [
      "Saved submission to ../output/submission_0.9274.csv\n"
     ]
    }
   ],
   "source": [
    "sub.to_csv(OUT_DIR + F\"submission_{score:.4f}.csv\", index=False)\n",
    "\n",
    "print(f'Saved submission to {OUT_DIR + F\"submission_{score:.4f}.csv\"}')"
   ]
  },
  {
   "cell_type": "code",
   "execution_count": 19,
   "metadata": {},
   "outputs": [
    {
     "data": {
      "text/html": [
       "<div>\n",
       "<style scoped>\n",
       "    .dataframe tbody tr th:only-of-type {\n",
       "        vertical-align: middle;\n",
       "    }\n",
       "\n",
       "    .dataframe tbody tr th {\n",
       "        vertical-align: top;\n",
       "    }\n",
       "\n",
       "    .dataframe thead th {\n",
       "        text-align: right;\n",
       "    }\n",
       "</style>\n",
       "<table border=\"1\" class=\"dataframe\">\n",
       "  <thead>\n",
       "    <tr style=\"text-align: right;\">\n",
       "      <th></th>\n",
       "      <th>recording_id</th>\n",
       "      <th>s0</th>\n",
       "      <th>s1</th>\n",
       "      <th>s2</th>\n",
       "      <th>s3</th>\n",
       "      <th>s4</th>\n",
       "      <th>s5</th>\n",
       "      <th>s6</th>\n",
       "      <th>s7</th>\n",
       "      <th>s8</th>\n",
       "      <th>...</th>\n",
       "      <th>s14</th>\n",
       "      <th>s15</th>\n",
       "      <th>s16</th>\n",
       "      <th>s17</th>\n",
       "      <th>s18</th>\n",
       "      <th>s19</th>\n",
       "      <th>s20</th>\n",
       "      <th>s21</th>\n",
       "      <th>s22</th>\n",
       "      <th>s23</th>\n",
       "    </tr>\n",
       "  </thead>\n",
       "  <tbody>\n",
       "    <tr>\n",
       "      <th>0</th>\n",
       "      <td>000316da7</td>\n",
       "      <td>0.176995</td>\n",
       "      <td>0.085722</td>\n",
       "      <td>0.093675</td>\n",
       "      <td>0.615611</td>\n",
       "      <td>0.072445</td>\n",
       "      <td>0.109477</td>\n",
       "      <td>0.114053</td>\n",
       "      <td>0.067227</td>\n",
       "      <td>0.084789</td>\n",
       "      <td>...</td>\n",
       "      <td>0.762768</td>\n",
       "      <td>0.118629</td>\n",
       "      <td>0.091624</td>\n",
       "      <td>0.143157</td>\n",
       "      <td>0.799194</td>\n",
       "      <td>0.085438</td>\n",
       "      <td>0.124807</td>\n",
       "      <td>0.075319</td>\n",
       "      <td>0.074638</td>\n",
       "      <td>0.138559</td>\n",
       "    </tr>\n",
       "    <tr>\n",
       "      <th>1</th>\n",
       "      <td>003bc2cb2</td>\n",
       "      <td>0.146267</td>\n",
       "      <td>0.169390</td>\n",
       "      <td>0.082023</td>\n",
       "      <td>0.490892</td>\n",
       "      <td>0.098180</td>\n",
       "      <td>0.067100</td>\n",
       "      <td>0.073889</td>\n",
       "      <td>0.135797</td>\n",
       "      <td>0.062457</td>\n",
       "      <td>...</td>\n",
       "      <td>0.786136</td>\n",
       "      <td>0.096164</td>\n",
       "      <td>0.973185</td>\n",
       "      <td>0.114876</td>\n",
       "      <td>0.189146</td>\n",
       "      <td>0.082111</td>\n",
       "      <td>0.080066</td>\n",
       "      <td>0.102713</td>\n",
       "      <td>0.075662</td>\n",
       "      <td>0.087977</td>\n",
       "    </tr>\n",
       "    <tr>\n",
       "      <th>2</th>\n",
       "      <td>0061c037e</td>\n",
       "      <td>0.356859</td>\n",
       "      <td>0.156443</td>\n",
       "      <td>0.114586</td>\n",
       "      <td>0.351453</td>\n",
       "      <td>0.134957</td>\n",
       "      <td>0.195421</td>\n",
       "      <td>0.149190</td>\n",
       "      <td>0.413765</td>\n",
       "      <td>0.152761</td>\n",
       "      <td>...</td>\n",
       "      <td>0.322519</td>\n",
       "      <td>0.178741</td>\n",
       "      <td>0.125381</td>\n",
       "      <td>0.177807</td>\n",
       "      <td>0.272414</td>\n",
       "      <td>0.122083</td>\n",
       "      <td>0.239281</td>\n",
       "      <td>0.263221</td>\n",
       "      <td>0.159463</td>\n",
       "      <td>0.198991</td>\n",
       "    </tr>\n",
       "    <tr>\n",
       "      <th>3</th>\n",
       "      <td>010eb14d3</td>\n",
       "      <td>0.998361</td>\n",
       "      <td>0.044152</td>\n",
       "      <td>0.049118</td>\n",
       "      <td>0.064688</td>\n",
       "      <td>0.036994</td>\n",
       "      <td>0.044312</td>\n",
       "      <td>0.045308</td>\n",
       "      <td>0.023680</td>\n",
       "      <td>0.324396</td>\n",
       "      <td>...</td>\n",
       "      <td>0.006991</td>\n",
       "      <td>0.053387</td>\n",
       "      <td>0.036333</td>\n",
       "      <td>0.038378</td>\n",
       "      <td>0.423421</td>\n",
       "      <td>0.042605</td>\n",
       "      <td>0.046380</td>\n",
       "      <td>0.110490</td>\n",
       "      <td>0.036715</td>\n",
       "      <td>0.043313</td>\n",
       "    </tr>\n",
       "    <tr>\n",
       "      <th>4</th>\n",
       "      <td>011318064</td>\n",
       "      <td>0.270275</td>\n",
       "      <td>0.108486</td>\n",
       "      <td>0.034820</td>\n",
       "      <td>0.250074</td>\n",
       "      <td>0.081174</td>\n",
       "      <td>0.052010</td>\n",
       "      <td>0.068074</td>\n",
       "      <td>0.072645</td>\n",
       "      <td>0.045556</td>\n",
       "      <td>...</td>\n",
       "      <td>0.999092</td>\n",
       "      <td>0.667760</td>\n",
       "      <td>0.040423</td>\n",
       "      <td>0.050682</td>\n",
       "      <td>0.570265</td>\n",
       "      <td>0.048576</td>\n",
       "      <td>0.096333</td>\n",
       "      <td>0.093938</td>\n",
       "      <td>0.046683</td>\n",
       "      <td>0.054746</td>\n",
       "    </tr>\n",
       "  </tbody>\n",
       "</table>\n",
       "<p>5 rows × 25 columns</p>\n",
       "</div>"
      ],
      "text/plain": [
       "  recording_id        s0        s1        s2        s3        s4        s5  \\\n",
       "0    000316da7  0.176995  0.085722  0.093675  0.615611  0.072445  0.109477   \n",
       "1    003bc2cb2  0.146267  0.169390  0.082023  0.490892  0.098180  0.067100   \n",
       "2    0061c037e  0.356859  0.156443  0.114586  0.351453  0.134957  0.195421   \n",
       "3    010eb14d3  0.998361  0.044152  0.049118  0.064688  0.036994  0.044312   \n",
       "4    011318064  0.270275  0.108486  0.034820  0.250074  0.081174  0.052010   \n",
       "\n",
       "         s6        s7        s8  ...       s14       s15       s16       s17  \\\n",
       "0  0.114053  0.067227  0.084789  ...  0.762768  0.118629  0.091624  0.143157   \n",
       "1  0.073889  0.135797  0.062457  ...  0.786136  0.096164  0.973185  0.114876   \n",
       "2  0.149190  0.413765  0.152761  ...  0.322519  0.178741  0.125381  0.177807   \n",
       "3  0.045308  0.023680  0.324396  ...  0.006991  0.053387  0.036333  0.038378   \n",
       "4  0.068074  0.072645  0.045556  ...  0.999092  0.667760  0.040423  0.050682   \n",
       "\n",
       "        s18       s19       s20       s21       s22       s23  \n",
       "0  0.799194  0.085438  0.124807  0.075319  0.074638  0.138559  \n",
       "1  0.189146  0.082111  0.080066  0.102713  0.075662  0.087977  \n",
       "2  0.272414  0.122083  0.239281  0.263221  0.159463  0.198991  \n",
       "3  0.423421  0.042605  0.046380  0.110490  0.036715  0.043313  \n",
       "4  0.570265  0.048576  0.096333  0.093938  0.046683  0.054746  \n",
       "\n",
       "[5 rows x 25 columns]"
      ]
     },
     "execution_count": 19,
     "metadata": {},
     "output_type": "execute_result"
    }
   ],
   "source": [
    "sub.head()"
   ]
  },
  {
   "cell_type": "markdown",
   "metadata": {},
   "source": [
    "## Train"
   ]
  }
 ],
 "metadata": {
  "kernelspec": {
   "display_name": "Python 3",
   "language": "python",
   "name": "python3"
  },
  "language_info": {
   "codemirror_mode": {
    "name": "ipython",
    "version": 3
   },
   "file_extension": ".py",
   "mimetype": "text/x-python",
   "name": "python",
   "nbconvert_exporter": "python",
   "pygments_lexer": "ipython3",
   "version": "3.6.9"
  }
 },
 "nbformat": 4,
 "nbformat_minor": 4
}
